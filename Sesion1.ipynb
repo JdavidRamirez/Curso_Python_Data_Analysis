{
  "nbformat": 4,
  "nbformat_minor": 0,
  "metadata": {
    "colab": {
      "provenance": [],
      "include_colab_link": true
    },
    "kernelspec": {
      "name": "python3",
      "display_name": "Python 3"
    },
    "language_info": {
      "name": "python"
    }
  },
  "cells": [
    {
      "cell_type": "markdown",
      "metadata": {
        "id": "view-in-github",
        "colab_type": "text"
      },
      "source": [
        "<a href=\"https://colab.research.google.com/github/JdavidRamirez/Curso_Python_Data_Analysis/blob/main/Sesion1.ipynb\" target=\"_parent\"><img src=\"https://colab.research.google.com/assets/colab-badge.svg\" alt=\"Open In Colab\"/></a>"
      ]
    },
    {
      "cell_type": "markdown",
      "source": [
        "<p><img alt=\"Colaboratory logo\" height=\"140px\" src=\"https://upload.wikimedia.org/wikipedia/commons/thumb/c/c3/Python-logo-notext.svg/800px-Python-logo-notext.svg.png\" align=\"left\" hspace=\"10px\" vspace=\"0px\"></p>\n",
        "\n",
        "# Diplomado en análisis de datos con  Python aplicado a las ciencias ambientales.\n",
        "\n",
        "<p>Aprende fundamentos de código en el lenguaje de programación Python para manejar, visualizar y analizar datos de manera práctica y efectiva.</p>\n"
      ],
      "metadata": {
        "id": "XyQbWY9S554q"
      }
    },
    {
      "cell_type": "markdown",
      "source": [
        "\n",
        "<p><a name=\"contents\"></a></p>\n",
        "<h1> Tabla de contenidos : </h1>\n",
        "\n",
        "- <a href=\"#colabIntro\">1. Introducción a Google Colaboratory   <a><br>\n",
        "- <a href=\"#fundamentos\">2. Nombres, asignación y tipos fundamentales de variables</a><br>\n",
        "- <a href=\"#estructurasControl\">3. Condicionales y bucles</a></br>\n",
        "- <a href=\"#stringListdic\">4. Strings, listas y diccionarios</a></br>\n",
        "- <a href=\"#funciones\">5. Funciones</a></br>\n",
        "- <a href=\"#modulos\">6. Modulos y paquetes</a></br>\n",
        "- <a href=\"#clases\">7. POO</a></br>\n",
        "\n",
        "\n",
        "\n"
      ],
      "metadata": {
        "id": "0rWW3LR2B1Nf"
      }
    },
    {
      "cell_type": "markdown",
      "source": [
        "<a href=\"#contents\">Contenido<a><br>\n",
        "<p><a name=\"colabIntro\"></a></p>\n",
        "<h2> 1. ¿Qué es Google Colab o Colaboratory? </h2>\n",
        "\n",
        "<p> Google Collaboratory, o Google Colab, es una herramienta gratuita basada en la nube que permite escribir y ejecutar código Python directamente desde un navegador. Es especialmente útil para proyectos de aprendizaje automático, análisis de datos y colaboración.</p>\n",
        "\n",
        "<div><h3> ¿Qué puedes hacer con Colab ?</h3>\n",
        "\n",
        "- Acceso gratuito desde cualquier lugar no necesitas instalar software, solo necesitas una cuenta de Google y un navegador web.\n",
        "\n",
        "- Genera gráficos y visualizaciones de manera rápida utilizando bibliotecas como Matplotlib y Seaborn.\n",
        "\n",
        "- Comparte tu notebook con otros, permitiendo ediciones y comentarios colaborativos.\n",
        "\n",
        "- Integración de bases de datos en SQL para análisis avanzado.\n",
        "\n",
        "- Acceso a herramientas como Pandas para manipulación de datos, NumPy para cálculos matemáticos y Scikit-learn para machine learning.\n",
        "\n",
        "- Usa celdas de texto para explicar paso a paso el análisis, ideal para compartir con personas no técnicas.\n",
        "\n",
        "- Automatiza análisis recurrentes sin necesidad de interacción manual.\n",
        "\n",
        "- Accede a datasets comunes directamente desde bibliotecas como Seaborn para practicar análisis sin necesidad de buscar datos externos.\n",
        "</div>"
      ],
      "metadata": {
        "id": "ITvqWSRs818D"
      }
    },
    {
      "cell_type": "markdown",
      "source": [
        "<div>\n",
        "<h3>Pasos iniciales: </h3>\n",
        "\n",
        "1. Acceso a Google Colab\n",
        "- Ve a [Google Colab.](https://colab.research.google.com/)\n",
        "- Inicia sesión con tu cuenta de Google.\n",
        "2. Copia este Notebook de estudio\n",
        "3. Exploración de entorno de trabajo\n",
        "4. Mi primer script en una celda de código `print(\"Hola Mundo!)`\n",
        "\n",
        "\n",
        "</div>"
      ],
      "metadata": {
        "id": "lrJc2flt1F4t"
      }
    },
    {
      "cell_type": "code",
      "source": [
        "#Nuevo script\n",
        "print(\"aprendiendo el programa\")"
      ],
      "metadata": {
        "colab": {
          "base_uri": "https://localhost:8080/"
        },
        "id": "iuOrVVU5sF6-",
        "outputId": "04e79104-0ffb-4971-f4df-e845aa168b61"
      },
      "execution_count": null,
      "outputs": [
        {
          "output_type": "stream",
          "name": "stdout",
          "text": [
            "aprendiendo el programa\n"
          ]
        }
      ]
    },
    {
      "cell_type": "code",
      "source": [
        "#Mi primer script en la clase\n",
        "print(\"Hola Mundo\")"
      ],
      "metadata": {
        "id": "BDenD_R64meE",
        "colab": {
          "base_uri": "https://localhost:8080/"
        },
        "outputId": "d1a0a21b-7e52-4538-cf82-09f03059eaa1"
      },
      "execution_count": null,
      "outputs": [
        {
          "output_type": "stream",
          "name": "stdout",
          "text": [
            "Hola Mundo\n"
          ]
        }
      ]
    },
    {
      "cell_type": "markdown",
      "source": [
        "<a href=\"#contents\">Contenido<a><br>\n",
        "<p><a name=\"fundamentos\"></a></p>\n",
        "\n",
        "# 2. Nombres, asignación y tipos fundamentales de variables\n",
        "\n",
        "<div><h3>Nombres y asignación de variables </h3>\n",
        "\n",
        "<p>Definición: En la mayoría de lenguajes de programación existe el concepto de variables. Las variables permiten asignar nombres coherentes a información para ser reutilizada con facilidad.\n",
        "\n",
        "Por convención, los nombres de las variables comienzan con letras minúsculas, y los nombres de las Clases con letras mayúsculas.\n",
        "\n",
        "<strong> Nota: </strong>Adicionalmente, existe un número de palabras claves que no pueden ser usadas como nombres de variables. Estas palabras claves son:\n",
        "\n",
        "> `and, as, assert, break, class, continue, def, del, elif, else, except, exec, finally, for, from, global, if, import, in, is, lambda, not, or, pass, print, raise, return, try, while, with, yield`\n",
        "</div>\n",
        "\n",
        "<strong>Conceptos clave:</strong>\n",
        "Los nombres de las variables deben ser descriptivos.\n",
        "No pueden comenzar con un número ni contener espacios.\n"
      ],
      "metadata": {
        "id": "zXTck6rjOxGp"
      }
    },
    {
      "cell_type": "code",
      "source": [
        "#Asignaciones simples de prueba\n",
        "color = 'Blue'\n",
        "num_of_cards = 44\n",
        "buy_list = ['Corn', 'Banana', 'Salt']\n",
        "print(color)\n",
        "print(num_of_cards)\n",
        "print(buy_list)"
      ],
      "metadata": {
        "colab": {
          "base_uri": "https://localhost:8080/"
        },
        "id": "2UmXch40t6XR",
        "outputId": "34cd548e-5b89-4ccb-ca3d-0faa4542752d"
      },
      "execution_count": null,
      "outputs": [
        {
          "output_type": "stream",
          "name": "stdout",
          "text": [
            "Blue\n",
            "44\n",
            "['Corn', 'Banana', 'Salt']\n"
          ]
        }
      ]
    },
    {
      "cell_type": "code",
      "source": [
        "#Asignaciones simples\n",
        "color = 'Red'\n",
        "num_of_cards = 56\n",
        "pi_number = 13.1416\n",
        "buy_list = ['Bread', 'Rise', 'Oil']\n",
        "\n",
        "x=\"Juan\"\n",
        "\n",
        "print(x), print(pi_number)"
      ],
      "metadata": {
        "id": "MML6I-Ul8y-z",
        "colab": {
          "base_uri": "https://localhost:8080/"
        },
        "outputId": "03956b6f-3240-47c3-c736-95d4b1877452"
      },
      "execution_count": null,
      "outputs": [
        {
          "output_type": "stream",
          "name": "stdout",
          "text": [
            "Juan\n",
            "13.1416\n"
          ]
        },
        {
          "output_type": "execute_result",
          "data": {
            "text/plain": [
              "(None, None)"
            ]
          },
          "metadata": {},
          "execution_count": 4
        }
      ]
    },
    {
      "cell_type": "code",
      "source": [
        "#Asignaciones multiples\n",
        "str_ivan, str_luis, str_luz = 'ivan', 'luis', 'luz'\n",
        "cards = 32, 20, 14"
      ],
      "metadata": {
        "id": "_hdPS74YwwR3"
      },
      "execution_count": null,
      "outputs": []
    },
    {
      "cell_type": "code",
      "source": [
        "#verificando contenido de variables\n",
        "print(str_ivan)\n",
        "print(cards)"
      ],
      "metadata": {
        "colab": {
          "base_uri": "https://localhost:8080/"
        },
        "id": "2BL3K8vc6JiQ",
        "outputId": "ae17af9e-3f7d-416e-c85c-46a596b38c3b"
      },
      "execution_count": null,
      "outputs": [
        {
          "output_type": "stream",
          "name": "stdout",
          "text": [
            "ivan\n",
            "(32, 20, 14)\n"
          ]
        }
      ]
    },
    {
      "cell_type": "code",
      "execution_count": null,
      "metadata": {
        "id": "5w1hJU3-52oJ"
      },
      "outputs": [],
      "source": [
        "#Asignaciones múltiples\n",
        "str_red, str_blue = 'Red', 'Blue'\n",
        "cards, half_cards = 56, 28\n",
        "pi_number, g_force = 13.1415, 9.8\n",
        "ltr1, ltr2, ltr3 = 'Red'"
      ]
    },
    {
      "cell_type": "code",
      "source": [
        "#Verificando el contenido de las variables\n",
        "print(pi_number,g_force)\n",
        "print(str_blue)\n",
        "print(cards)\n",
        "print(buy_list)\n",
        "print(str_red, str_blue)"
      ],
      "metadata": {
        "id": "5uH97DAC8JdK",
        "colab": {
          "base_uri": "https://localhost:8080/"
        },
        "outputId": "a51215b3-33e0-4d67-9478-7a12f36a28c0"
      },
      "execution_count": null,
      "outputs": [
        {
          "output_type": "stream",
          "name": "stdout",
          "text": [
            "13.1415 9.8\n",
            "Blue\n",
            "56\n",
            "['Bread', 'Rise', 'Oil']\n",
            "Red Blue\n"
          ]
        }
      ]
    },
    {
      "cell_type": "markdown",
      "source": [
        "<div>\n",
        "<h3>Tipos fundamentales de datos</h3>\n",
        "<p>Python tiene varios tipos de variables entre ellos:\n",
        "\n",
        "- Enteros (int): números sin decimales.\n",
        "- Flotantes (float): números con decimales.\n",
        "- Cadenas (str): texto.\n",
        "- Booleanos (bool): True o False.\n",
        "\n",
        "</p>\n",
        "\n",
        "<div>"
      ],
      "metadata": {
        "id": "Mwq1SvP588mI"
      }
    },
    {
      "cell_type": "code",
      "source": [
        "#Ejemplos\n",
        "numero = 10\n",
        "altura = 1.75\n",
        "mensaje = \"Hola, mundo!\"\n",
        "activo = True\n",
        "\n",
        "#La función type() nos permite saber el tipo de variables\n",
        "type(activo)"
      ],
      "metadata": {
        "id": "SgdSYDT4A-YE",
        "colab": {
          "base_uri": "https://localhost:8080/"
        },
        "outputId": "7d6d8a0d-e087-484e-d19e-18ac225bba94"
      },
      "execution_count": null,
      "outputs": [
        {
          "output_type": "execute_result",
          "data": {
            "text/plain": [
              "bool"
            ]
          },
          "metadata": {},
          "execution_count": 1
        }
      ]
    },
    {
      "cell_type": "code",
      "source": [
        "numero=9\n",
        "print(numero)"
      ],
      "metadata": {
        "colab": {
          "base_uri": "https://localhost:8080/"
        },
        "id": "QTmaUTiyn_Qc",
        "outputId": "d7be6567-dfec-4237-f851-16b56c944d01"
      },
      "execution_count": null,
      "outputs": [
        {
          "output_type": "stream",
          "name": "stdout",
          "text": [
            "9\n"
          ]
        }
      ]
    },
    {
      "cell_type": "code",
      "source": [
        "print(numero)"
      ],
      "metadata": {
        "colab": {
          "base_uri": "https://localhost:8080/"
        },
        "id": "vt7fDCkMoI7k",
        "outputId": "56723378-e91b-4e95-86ec-7abb0c31587f"
      },
      "execution_count": null,
      "outputs": [
        {
          "output_type": "stream",
          "name": "stdout",
          "text": [
            "10\n"
          ]
        }
      ]
    },
    {
      "cell_type": "code",
      "source": [
        "#Operadores\n",
        "\n",
        "\n",
        "25 // 4, 25 % 4"
      ],
      "metadata": {
        "colab": {
          "base_uri": "https://localhost:8080/"
        },
        "id": "DdYi27DfDcH0",
        "outputId": "1fc4826a-b78a-4e99-e5a7-5a85ea28e44a"
      },
      "execution_count": null,
      "outputs": [
        {
          "output_type": "execute_result",
          "data": {
            "text/plain": [
              "(6, 1)"
            ]
          },
          "metadata": {},
          "execution_count": 17
        }
      ]
    },
    {
      "cell_type": "code",
      "source": [
        "36 // 6, 36 % 6"
      ],
      "metadata": {
        "id": "cGE5FeIyCm8Z",
        "colab": {
          "base_uri": "https://localhost:8080/"
        },
        "outputId": "1e53b69d-b479-431e-b8d9-c33583c663b0"
      },
      "execution_count": null,
      "outputs": [
        {
          "output_type": "execute_result",
          "data": {
            "text/plain": [
              "(6, 0)"
            ]
          },
          "metadata": {},
          "execution_count": 17
        }
      ]
    },
    {
      "cell_type": "code",
      "source": [
        "25 // 5, 25 % 5"
      ],
      "metadata": {
        "colab": {
          "base_uri": "https://localhost:8080/"
        },
        "id": "iqR0qAbFo5Zt",
        "outputId": "da8418c6-ff52-46b5-8117-f9c5b1642f38"
      },
      "execution_count": null,
      "outputs": [
        {
          "output_type": "execute_result",
          "data": {
            "text/plain": [
              "(5, 0)"
            ]
          },
          "metadata": {},
          "execution_count": 19
        }
      ]
    },
    {
      "cell_type": "code",
      "source": [
        "# Variables se pueden pedir por teclado con la función input()\n",
        "\n",
        "nombre = input(\"¿Cuál es tu nombre? \")\n",
        "\n",
        "print(f\"Me alegro de conocerle, {nombre}\")\n",
        "\n",
        "print(\"Mucho gusto en conocerlo: \",nombre)"
      ],
      "metadata": {
        "colab": {
          "base_uri": "https://localhost:8080/"
        },
        "id": "PfVVGZotnEp3",
        "outputId": "0eeb177f-e83d-4e10-fac2-f3f894381fbe"
      },
      "execution_count": null,
      "outputs": [
        {
          "output_type": "stream",
          "name": "stdout",
          "text": [
            "¿Cuál es tu nombre? juan\n",
            "Me alegro de conocerle, juan\n",
            "Mucho gusto en conocerlo juan\n"
          ]
        }
      ]
    },
    {
      "cell_type": "code",
      "source": [
        "# Para variables continuas y discretos (enteros y reales)\n",
        "estatura = float(input(\"¿Cuál es su estatura en metros?\"))\n",
        "print(f\"Su estatura es {estatura} metros\")\n",
        "\n",
        "habitacion=int(input(\"¿En qué habitación estás?\"))\n",
        "print(f\"Estás en la habitación {habitacion}\")\n",
        "\n",
        "nombre= str(input(\" Cúal es tu nombre\"))"
      ],
      "metadata": {
        "id": "O674Whu-paay",
        "colab": {
          "base_uri": "https://localhost:8080/"
        },
        "outputId": "aa9fe5e2-5ccd-4d35-ab73-62376ea84302"
      },
      "execution_count": null,
      "outputs": [
        {
          "name": "stdout",
          "output_type": "stream",
          "text": [
            "¿Cuál es su estatura en metros?14.2\n",
            "Su estatura es 14.2 metros\n",
            "¿En qué habitación estás?5\n",
            "Estás en la habitación 5\n",
            " Cúal es tu nombremonica\n"
          ]
        }
      ]
    },
    {
      "cell_type": "code",
      "source": [
        "nombre= str(input(\" Cúal es tu nombre \"))\n",
        "print(nombre)"
      ],
      "metadata": {
        "colab": {
          "base_uri": "https://localhost:8080/"
        },
        "id": "ddlNVdkUp-s6",
        "outputId": "31554557-59ad-4503-cf0d-3d08516b51c9"
      },
      "execution_count": null,
      "outputs": [
        {
          "output_type": "stream",
          "name": "stdout",
          "text": [
            " Cúal es tu nombre monica\n",
            "monica\n"
          ]
        }
      ]
    },
    {
      "cell_type": "code",
      "source": [
        "#boleana o string\n",
        "nombre= str(input (\"Cual es tu nombre?: \"))\n",
        "print(f\"Tu nombre es:{nombre}\")"
      ],
      "metadata": {
        "colab": {
          "base_uri": "https://localhost:8080/"
        },
        "id": "glzEVO_HRRmY",
        "outputId": "6e4ee9d5-d10f-4a3e-c344-4565beb8352b"
      },
      "execution_count": null,
      "outputs": [
        {
          "output_type": "stream",
          "name": "stdout",
          "text": [
            "Cual es tu nombre?: Juan\n",
            "Tu nombre es:Juan\n"
          ]
        }
      ]
    },
    {
      "cell_type": "code",
      "source": [
        "#boleana o string\n",
        "nombre= str(input(\"¿Cúal es tu nombre?: \"))\n",
        "print(f\"Tu nombre es: {nombre}\")"
      ],
      "metadata": {
        "colab": {
          "base_uri": "https://localhost:8080/"
        },
        "id": "N-cXgZw5qNCO",
        "outputId": "49f9e06c-2925-4b9f-9ff5-c27ebd48a17d"
      },
      "execution_count": null,
      "outputs": [
        {
          "output_type": "stream",
          "name": "stdout",
          "text": [
            "¿Cúal es tu nombre?: julio\n",
            "Tu nombre es: julio\n"
          ]
        }
      ]
    },
    {
      "cell_type": "markdown",
      "source": [
        "## Ejercicios Para practicar\n",
        "\n",
        "1. Cálculo del área de un círculo: Pide el radio y calcula el área utilizando la fórmula $πr²$\n",
        "2. Convierte una medida de una unidad a otra (por ejemplo, de metros a centímetros).\n",
        "3. Propon un ejercicios donde tengas que pedir datos por teclado."
      ],
      "metadata": {
        "id": "TJQxeStbsYDn"
      }
    },
    {
      "cell_type": "code",
      "source": [
        "radio= float(input(\"Ingrese el radio de la circunferencia cm: \"))\n",
        "area=(3.14)*radio**2\n",
        "print(area)"
      ],
      "metadata": {
        "colab": {
          "base_uri": "https://localhost:8080/"
        },
        "id": "wwTZcHqbqXUZ",
        "outputId": "0ac9265e-f0a0-41c7-e519-e747d6623fcb"
      },
      "execution_count": null,
      "outputs": [
        {
          "output_type": "stream",
          "name": "stdout",
          "text": [
            "Ingrese el radio de la circunferencia cm: 18\n",
            "1017.36\n"
          ]
        }
      ]
    },
    {
      "cell_type": "code",
      "source": [
        "radio=float(input(\"ingresar el radio de un circulo cm: \") )"
      ],
      "metadata": {
        "colab": {
          "base_uri": "https://localhost:8080/"
        },
        "id": "UDRtifXQD6Vg",
        "outputId": "12a879d6-5881-481a-883f-f7945a7a62e4"
      },
      "execution_count": null,
      "outputs": [
        {
          "name": "stdout",
          "output_type": "stream",
          "text": [
            "ingresar el radio de un circulo cm: 12\n"
          ]
        }
      ]
    },
    {
      "cell_type": "code",
      "source": [
        "# area circulo\n",
        "\n",
        "area=(3.1416)*radio**2\n",
        "print(area)\n",
        "print(f\"el area es {area} cm2\")\n"
      ],
      "metadata": {
        "id": "WAEwPtKPrHfe",
        "colab": {
          "base_uri": "https://localhost:8080/"
        },
        "outputId": "2a7206b8-ff3c-4883-ed63-1c846ae6bc45"
      },
      "execution_count": null,
      "outputs": [
        {
          "output_type": "stream",
          "name": "stdout",
          "text": [
            "452.3904\n",
            "el area es 452.3904 cm2\n"
          ]
        }
      ]
    },
    {
      "cell_type": "markdown",
      "source": [
        "<a href=\"#contents\">Contenido<a><br>\n",
        "<p><a name=\"estructurasControl\"></a></p>\n",
        "\n",
        "# 3. Condicionales y bucles</h3>\n",
        "\n",
        "<div>\n",
        "<h3>Condicionales</h3>\n",
        "<p><strong>Definición:</strong> Los condicionales son preguntas que el programa se hace para decidir qué hacer a continuación como <strong>\"Si pasa esto, pasa lo otro\"</strong>. Estas preguntas normalmente son conocidas como estructuras de control.</p>\n",
        "\n",
        "Por ejemplo:\n",
        "- Si llueve, me pongo un paraguas.\n",
        "- Si tengo hambre, como algo.\n",
        "</div>\n",
        "<div>\n",
        "<p>La sintaxis para implementar estas preguntas o estructuras de control es: </p>\n",
        "\n",
        "````\n",
        "if condicion:\n",
        "    # Código si la condición es verdadera\n",
        "elif otra_condicion:\n",
        "    # Código si la otra condición es verdadera\n",
        "else:\n",
        "    # Código si ninguna condición es verdadera\n",
        "````\n",
        "\n",
        "</div>"
      ],
      "metadata": {
        "id": "Vst8C0punLyb"
      }
    },
    {
      "cell_type": "markdown",
      "source": [
        "**Hola : ** *texto en cursiva*\n",
        "\n",
        "$ x=r^{2}$"
      ],
      "metadata": {
        "id": "NTAuVZBXs7P3"
      }
    },
    {
      "cell_type": "code",
      "source": [
        "#Ejemplo\n",
        "\n",
        "edad = int(input(\"Ingrese su edad :\"))\n",
        "\n",
        "if edad >= 18:  # Si la edad es mayor o igual a 18...\n",
        "    print(\"Eres mayor de edad\")  # ...entonces imprime este mensaje.\n",
        "else:\n",
        "    print(\"Eres menor de edad\")  # Si no, imprime este otro mensaje.\n"
      ],
      "metadata": {
        "id": "Y87HDGXyyQv5",
        "colab": {
          "base_uri": "https://localhost:8080/"
        },
        "outputId": "9c9aa132-f57b-47f0-ab08-8e3a01f0f3cc"
      },
      "execution_count": null,
      "outputs": [
        {
          "output_type": "stream",
          "name": "stdout",
          "text": [
            "Ingrese su edad :23\n",
            "Eres mayor de edad\n"
          ]
        }
      ]
    },
    {
      "cell_type": "code",
      "source": [
        "clima=(input(\"¿como esta el clima?\"))\n",
        "if clima==\"lluvioso\":\n",
        "\n",
        "\n"
      ],
      "metadata": {
        "colab": {
          "base_uri": "https://localhost:8080/"
        },
        "id": "QX9REw36KWlJ",
        "outputId": "f1a2aa04-af2b-476e-c71b-01f86e4245cb"
      },
      "execution_count": null,
      "outputs": [
        {
          "name": "stdout",
          "output_type": "stream",
          "text": [
            "¿como esta el clima? Soleado\n"
          ]
        }
      ]
    },
    {
      "cell_type": "markdown",
      "source": [
        "<a href=\"#contents\">Contenido<a><br>\n",
        "<div>\n",
        "<h3>Ejercicios para practicar: </h3>\n",
        "<p>1. Escribe un programa que pregunte al usuario cómo está el clima y dé un mensaje apropiado según la respuesta. Por ejemplo:\n",
        "\n",
        "  - Si el usuario dice \"soleado\", imprime: \"¡No olvides tus gafas de sol!\".\n",
        "  - Si dice \"lluvioso\", imprime: \"Lleva un paraguas\".\n",
        "  - Si dice algo diferente, imprime: \"¡Disfruta tu día!\".</p>\n",
        "\n",
        "<p>2. Crea un programa que le pida al usuario que ingrese un número y determine si es par o impar.\n",
        "\n",
        "   - Si el número es par, imprime: \"El número X es par\".\n",
        "   - Si es impar, imprime: \"El número X es impar\".</p>\n",
        "</div>"
      ],
      "metadata": {
        "id": "eSHKEtgOyzMv"
      }
    },
    {
      "cell_type": "markdown",
      "source": [
        "<p><strong>Pregunta:</strong> ¿Qué operación se esta realizando con el simbolo % ?</p>"
      ],
      "metadata": {
        "id": "o5N7k1JD1n-X"
      }
    },
    {
      "cell_type": "code",
      "source": [
        "clima=(input(\"¿Como esta el clima?\"))\n",
        "if clima==\"soleado\":\n",
        "  print(\"¡No olvides tus gafas de sol!\")\n",
        "\n",
        "elif clima == \"lluvioso\":\n",
        "  print(\"lleva paraguas\")\n",
        "\n",
        "elif clima== \"Humedo\":\n",
        "  print(\"no corras\")\n",
        "\n",
        "else:\n",
        "  print(\"Disfruta tu dia\")\n",
        "\n"
      ],
      "metadata": {
        "colab": {
          "base_uri": "https://localhost:8080/"
        },
        "id": "XwDQksN-LnDY",
        "outputId": "8a1adf0a-d8d4-43a5-9884-3cc853a06a91"
      },
      "execution_count": null,
      "outputs": [
        {
          "output_type": "stream",
          "name": "stdout",
          "text": [
            "¿Como esta el clima?loco\n",
            "Disfruta tu dia\n"
          ]
        }
      ]
    },
    {
      "cell_type": "code",
      "source": [
        "numero=int(input(\"¿ingrese numero?\"))\n",
        "if numero%2==0:\n",
        "  print(f\"El numero {numero} es par\")\n",
        "else:\n",
        "  print(f\"El numero {numero} es impar\")\n"
      ],
      "metadata": {
        "colab": {
          "base_uri": "https://localhost:8080/"
        },
        "id": "5Qad8TQUOQNG",
        "outputId": "397738cf-a128-48dc-ba70-9c033e87f3ca"
      },
      "execution_count": null,
      "outputs": [
        {
          "output_type": "stream",
          "name": "stdout",
          "text": [
            "¿ingrese numero?19\n",
            "El numero 19 es impar\n"
          ]
        }
      ]
    },
    {
      "cell_type": "code",
      "source": [
        "#Pistas ejercicio 2.\n",
        "\n",
        "#numero=2\n",
        "#numero=20\n",
        "#numero=3\n",
        "#numero=7\n",
        "\n",
        "numero%2==0\n"
      ],
      "metadata": {
        "colab": {
          "base_uri": "https://localhost:8080/"
        },
        "id": "LxJ79cMa0rbe",
        "outputId": "9cd1b02b-4d08-4a59-c6fb-7265712b65d5"
      },
      "execution_count": null,
      "outputs": [
        {
          "output_type": "execute_result",
          "data": {
            "text/plain": [
              "True"
            ]
          },
          "metadata": {},
          "execution_count": 30
        }
      ]
    },
    {
      "cell_type": "markdown",
      "source": [
        "<a href=\"#contents\">Contenido<a><br>\n",
        "<div>\n",
        "<h3>Bucles o ciclos</h3>\n",
        "\n",
        "<p><strong>Definición : </strong> Un bucle o ciclo es una forma de repetir algo muchas veces (un código) sin tener que escribirlo una y otra vez.</p>\n",
        "\n",
        "<p>Por ejemplo en el código para saber si alguién es mayor de edad teníamos que reescribir varias veces la edad para probar como funcionaba con diferentes edades.</p>\n",
        "\n",
        "<h3>Tipos de Bucle: </h3>\n",
        "\n",
        "- Bucle `for`: Se usa para repetir algo un número definido de veces.\n",
        "- Bucle `while`: Se usa cuando no sabes exactamente cuántas veces repetir algo, pero sí sabes que quieres hacerlo mientras una condición sea verdadera.\n",
        "\n",
        "\n",
        "\n",
        "</div>"
      ],
      "metadata": {
        "id": "YBlkjEXw1_b0"
      }
    },
    {
      "cell_type": "code",
      "source": [
        "\n",
        "for numero in range(1, 2):\n",
        "  estatura=float(input(\" Cúal es su estatura: ?\"))\n",
        "  if estatura< 1.70:\n",
        "    print(\"No puede entrar\")\n",
        "  else:\n",
        "    print(\"puede entrar \")"
      ],
      "metadata": {
        "colab": {
          "base_uri": "https://localhost:8080/"
        },
        "id": "cD1nbvUHuAv_",
        "outputId": "831a059a-fc07-4ba5-c408-1d1fd8bdddb4"
      },
      "execution_count": null,
      "outputs": [
        {
          "output_type": "stream",
          "name": "stdout",
          "text": [
            " Cúal es su estatura: ?1.7\n",
            "puede entrar: \n"
          ]
        }
      ]
    },
    {
      "cell_type": "code",
      "source": [
        "#Ejemplor for\n",
        "#Escribe los números del 1 al 5\n",
        "List=[\"Laura\",\"jorge\", \"Miguel\"]\n",
        "i=\"jorge\"\n",
        "for i in List:\n",
        "  print(i)\n",
        "\n",
        "\n",
        "#for i in range(0, 6):  # range(1, 6) crea los números 1, 2, 3, 4, 5\n",
        "    #print(i)"
      ],
      "metadata": {
        "colab": {
          "base_uri": "https://localhost:8080/"
        },
        "id": "KypNp2SqEO4E",
        "outputId": "c9751802-5147-4207-fd37-781cd1fdc1c1"
      },
      "execution_count": null,
      "outputs": [
        {
          "output_type": "stream",
          "name": "stdout",
          "text": [
            "Laura\n",
            "jorge\n",
            "Miguel\n"
          ]
        }
      ]
    },
    {
      "cell_type": "code",
      "source": [
        "#Ejemplo While\n",
        "#Es como decir: \"Sigue haciendo esto mientras pase algo\".\n",
        "#Escribe los números del 1 al 5\n",
        "\n",
        "numero = 0  # Comenzamos en 1\n",
        "while numero!=5:\n",
        "  numero=int(input(\"ingresar numero :\"))\n",
        "  numero=numero*1\n"
      ],
      "metadata": {
        "id": "JpQGIsFJEpQT",
        "colab": {
          "base_uri": "https://localhost:8080/"
        },
        "outputId": "9e5fc5d6-f9b0-4a51-99ae-c396bb76e44f"
      },
      "execution_count": null,
      "outputs": [
        {
          "name": "stdout",
          "output_type": "stream",
          "text": [
            "ingresar numero :4\n",
            "ingresar numero :5\n"
          ]
        }
      ]
    },
    {
      "cell_type": "markdown",
      "source": [
        "\n",
        "\n",
        " ## ¿Cuando usar `for` o `while`?\n",
        "\n",
        "`for`: Se usa porque sabemos cuántos nombres hay en la lista y queremos procesarlos uno por uno.\n",
        "\n",
        "`while`: Se usa porque no sabemos cuántas veces el usuario tardará en adivinar el número correcto; el bucle depende de una condición."
      ],
      "metadata": {
        "id": "E3gdKiEAICzO"
      }
    },
    {
      "cell_type": "code",
      "source": [
        "# Bucle FOR: Recorremos una lista de nombres porque sabemos exactamente cuántos nombres hay\n",
        "nombres = [\"Ana\", \"Luis\", \"Pedro\"]\n",
        "print(\"Usando FOR:\")\n",
        "for nombre in nombres:\n",
        "    print(f\"Hola, {nombre}!\")  # Saluda a cada persona de la lista\n",
        "\n"
      ],
      "metadata": {
        "id": "cCsqsrq9H_56",
        "colab": {
          "base_uri": "https://localhost:8080/"
        },
        "outputId": "d84cb57c-b522-4093-be20-253106c1e819"
      },
      "execution_count": null,
      "outputs": [
        {
          "output_type": "stream",
          "name": "stdout",
          "text": [
            "Usando FOR:\n",
            "Hola, Ana!\n",
            "Hola, Luis!\n",
            "Hola, Pedro!\n"
          ]
        }
      ]
    },
    {
      "cell_type": "code",
      "source": [
        "# Bucle WHILE: Pedimos al usuario que adivine un número hasta que acierte (no sabemos cuántas veces se repetirá)\n",
        "numero_correcto = 7\n",
        "adivina = 0  # Inicializamos con un valor diferente al correcto\n",
        "print(\"\\nUsando WHILE:\")\n",
        "while adivina != numero_correcto:\n",
        "    adivina = int(input(\"Adivina el número (del 1 al 10): \"))\n",
        "    if adivina != numero_correcto:\n",
        "        print(\"¡Intenta de nuevo!\")\n",
        "print(\"¡Adivinaste!\")\n",
        "\n"
      ],
      "metadata": {
        "colab": {
          "base_uri": "https://localhost:8080/"
        },
        "id": "mBlJgreewR9-",
        "outputId": "1bf7bd09-119d-4e5d-c18e-d5525d0b1e2c"
      },
      "execution_count": null,
      "outputs": [
        {
          "output_type": "stream",
          "name": "stdout",
          "text": [
            "\n",
            "Usando WHILE:\n",
            "Adivina el número (del 1 al 10): 3\n",
            "¡Intenta de nuevo!\n",
            "Adivina el número (del 1 al 10): 2\n",
            "¡Intenta de nuevo!\n",
            "Adivina el número (del 1 al 10): 7\n",
            "¡Adivinaste!\n"
          ]
        }
      ]
    },
    {
      "cell_type": "markdown",
      "source": [
        "## Ejercicios:\n",
        "\n",
        "1.  Crea un programa que le pida al usuario números uno por uno sume esos números. El programa termina cuando el usuario escriba el número `0`.\n",
        "2. Escribe un programa que imprima todos los números pares entre `1` y `20`.\n",
        "3. Haz un programa que pida al usuario escribir su edad y solo continúe si introduce un número mayor que `0`.\n",
        "4. Escribir un programa que pida al usuario una palabra y la muestre `10` veces por pantalla.\n",
        "5. Contar las vocales de una cadena o palabra\n",
        "\n",
        "\n",
        "\n",
        "\n",
        "\n"
      ],
      "metadata": {
        "id": "jbcOaMf2KUIW"
      }
    },
    {
      "cell_type": "code",
      "source": [
        "medida= int(input(\"Ingrese medida:\"))\n",
        "while medida>10:\n",
        "  medida= int(input(\"Ingrese medida: \"))\n",
        "  print(medida)\n"
      ],
      "metadata": {
        "colab": {
          "base_uri": "https://localhost:8080/"
        },
        "id": "aDYkFQt8cq5s",
        "outputId": "0619b8f5-8769-41b1-d31b-b0a5125608b9"
      },
      "execution_count": null,
      "outputs": [
        {
          "output_type": "stream",
          "name": "stdout",
          "text": [
            "Ingrese medida:12\n",
            "Ingrese medida: 14\n",
            "14\n",
            "Ingrese medida: 9\n",
            "9\n"
          ]
        }
      ]
    },
    {
      "cell_type": "code",
      "source": [
        "#Contar las vocales de una palabra\n",
        "\n",
        "palabra=\"maeaeaeae\"\n",
        "vocales=0\n",
        "for i in palabra:\n",
        "  if i==\"a\" or\n",
        "    vocales=vocales+1\n",
        "print(vocales)\n",
        "\n"
      ],
      "metadata": {
        "colab": {
          "base_uri": "https://localhost:8080/"
        },
        "id": "cKC14Ae0efLk",
        "outputId": "26440cfd-98e8-4c50-ee43-87f96ea49a86"
      },
      "execution_count": null,
      "outputs": [
        {
          "output_type": "stream",
          "name": "stdout",
          "text": [
            "0\n"
          ]
        }
      ]
    },
    {
      "cell_type": "code",
      "source": [
        "numero = int(input(\"Ingresar numero : \"))\n",
        "suma=20\n",
        "while numero!=20:\n",
        "  suma=suma+numero\n",
        "  numero = int(input(\"ingresar numero: \"))\n",
        "print(suma)\n",
        "\n"
      ],
      "metadata": {
        "colab": {
          "base_uri": "https://localhost:8080/"
        },
        "id": "N3gBeqFFU4PA",
        "outputId": "5a5ec582-e63e-4d0d-d7f3-109cde747cc3"
      },
      "execution_count": null,
      "outputs": [
        {
          "output_type": "stream",
          "name": "stdout",
          "text": [
            "Ingresar numero : 5\n",
            "ingresar numero: 8\n",
            "ingresar numero: 10\n",
            "ingresar numero: 14\n",
            "ingresar numero: 16\n",
            "ingresar numero: 20\n",
            "73\n"
          ]
        }
      ]
    },
    {
      "cell_type": "code",
      "source": [
        "#Haz un programa que pida al usuario escribir su edad y solo continúe si introduce un número mayor que 0.\n",
        "\n",
        "edad=int(input(\"Ingrese su edad :\"))\n",
        "while edad>0:\n",
        "  edad=int(input(\"ingrese su edad :\"))\n",
        "  print(\"Edad:\", edad)\n",
        "else:\n",
        "  print(\"El juego se acabo\")\n",
        "\n"
      ],
      "metadata": {
        "colab": {
          "base_uri": "https://localhost:8080/"
        },
        "id": "3nFjjSTIGZvH",
        "outputId": "8b9e5ede-7871-4372-9fb7-876c3e15030c"
      },
      "execution_count": null,
      "outputs": [
        {
          "output_type": "stream",
          "name": "stdout",
          "text": [
            "Ingrese su edad :5\n",
            "ingrese su edad :8\n",
            "Edad: 8\n",
            "ingrese su edad :0\n",
            "Edad: 0\n",
            "El juego se acabo\n"
          ]
        }
      ]
    },
    {
      "cell_type": "code",
      "source": [
        "afirmacion = \" Si\"\n",
        "while afirmacion != \"Si\":\n",
        "  afirmacion=str(input(\" Voy a salir\"))\n",
        "\n",
        "\n",
        "print(\"Adivinaste\")\n",
        "\n"
      ],
      "metadata": {
        "colab": {
          "base_uri": "https://localhost:8080/"
        },
        "id": "jkEHREyTxIft",
        "outputId": "4b429006-0629-4fcc-dd27-67cadfbce7bd"
      },
      "execution_count": null,
      "outputs": [
        {
          "output_type": "stream",
          "name": "stdout",
          "text": [
            " Voy a salirSi\n",
            "Adivinaste\n"
          ]
        }
      ]
    },
    {
      "cell_type": "markdown",
      "source": [
        " <a href=\"#contents\">Contenido<a><br>\n",
        "\n",
        " <p><a name=\"stringListdic\"></a></p>\n",
        "\n",
        " # 4. String, listas y diccionarios\n",
        "\n",
        " ## Strings\n",
        "\n",
        " <p><strong>Definición:</strong> Un string es una secuencia de caracteres que se usa para representar texto en Python. Se define de la siguiente manera: </p>\n",
        "\n",
        "```\n",
        "Usando comillas simples ' o dobles \"\n",
        "```\n"
      ],
      "metadata": {
        "id": "3sm8rz9HIWyr"
      }
    },
    {
      "cell_type": "code",
      "source": [
        "#Ejemplos de cadenas o Strings\n",
        "a='Esto es una c'\n",
        "b=\"Estos es otra cadena\"\n",
        "c=\"esto tambien no es una cadena\""
      ],
      "metadata": {
        "id": "lAE8AfJ9IVns"
      },
      "execution_count": null,
      "outputs": []
    },
    {
      "cell_type": "code",
      "source": [
        "cadena= \"Los strings pueden ser tan largos como uno quiera, definitivamente mira como es de largo..............................................\"\n",
        "print(cadena)"
      ],
      "metadata": {
        "colab": {
          "base_uri": "https://localhost:8080/"
        },
        "id": "hcAQTfXG_cy0",
        "outputId": "ab21dbf2-3d0e-4085-aa03-5e89fead4c0b"
      },
      "execution_count": null,
      "outputs": [
        {
          "output_type": "stream",
          "name": "stdout",
          "text": [
            "Los strings pueden ser tan largos como uno quiera, definitivamente mira como es de largo..............................................\n"
          ]
        }
      ]
    },
    {
      "cell_type": "markdown",
      "source": [
        "## Operaciones comunes con Strings\n",
        "\n",
        " 1. Concatenar strings o unir dos o más cadenas.\n",
        "\n",
        "\n"
      ],
      "metadata": {
        "id": "6lhITeFjXRuO"
      }
    },
    {
      "cell_type": "code",
      "source": [
        "saludo = \"Hola\"\n",
        "nombre = \"Juan\"\n",
        "edad=\"45\"\n",
        "mensaje = saludo + \", \" + nombre + \",\" + \"mi edad es \"+ edad\n",
        "print(mensaje)"
      ],
      "metadata": {
        "id": "CMTo8lsxYHJm",
        "colab": {
          "base_uri": "https://localhost:8080/"
        },
        "outputId": "5037ad3c-a286-4df7-9124-924241b66403"
      },
      "execution_count": null,
      "outputs": [
        {
          "output_type": "stream",
          "name": "stdout",
          "text": [
            "Hola, Juan,mi edad es 45\n"
          ]
        }
      ]
    },
    {
      "cell_type": "markdown",
      "source": [],
      "metadata": {
        "id": "_c7sJAMhi6N6"
      }
    },
    {
      "cell_type": "markdown",
      "source": [
        "<div>\n",
        "<p> 2.  Acceder a caracteres especiales </p>\n",
        "</div>\n",
        "\n"
      ],
      "metadata": {
        "id": "FZmz2t30CLhx"
      }
    },
    {
      "cell_type": "code",
      "source": [
        "palabra = \"Hola mundo\"\n",
        "print(palabra[4])  # Salida: P (primer carácter)\n",
        "print(palabra[-3])  # Salida: n (último carácter)\n",
        "print(palabra[5:9])  # Salida: la m (desde el índice 2 hasta el 5)\n",
        "print(palabra[0:3])\n"
      ],
      "metadata": {
        "colab": {
          "base_uri": "https://localhost:8080/"
        },
        "id": "yJkReuJ4C1Gm",
        "outputId": "95561916-f9fe-4ccf-cb03-1050fb9798f8"
      },
      "execution_count": null,
      "outputs": [
        {
          "output_type": "stream",
          "name": "stdout",
          "text": [
            " \n",
            "n\n",
            "mund\n",
            "Hol\n"
          ]
        }
      ]
    },
    {
      "cell_type": "code",
      "source": [
        "print(palabra[4])"
      ],
      "metadata": {
        "colab": {
          "base_uri": "https://localhost:8080/"
        },
        "id": "tgofb1Zq0hBk",
        "outputId": "ee77f0de-704e-4e0c-89df-8dd789819538"
      },
      "execution_count": null,
      "outputs": [
        {
          "output_type": "stream",
          "name": "stdout",
          "text": [
            " \n"
          ]
        }
      ]
    },
    {
      "cell_type": "markdown",
      "source": [
        "<div>\n",
        "<p> 3. Métodos útiles para trabajar con strings </p>\n",
        "</div>\n",
        "\n",
        "- `upper()`: Convierte en Mayúsculas.\n",
        "- `lower()`: Convierte en Minisculas.\n",
        "- `strip()`: Elimina espacios al inicio y al final.\n",
        "- `replace()`: Reemplaza una parte del string.\n",
        "\n"
      ],
      "metadata": {
        "id": "pZmqG6SGDRpN"
      }
    },
    {
      "cell_type": "code",
      "source": [
        "texto = \" Hola Mundo \"\n",
        "print(texto[0])\n",
        "texto.strip()\n",
        "texto.upper()\n",
        "#print(texto.replace(\"Mundo\", \" \"))  # Salida: Hola Python\n"
      ],
      "metadata": {
        "colab": {
          "base_uri": "https://localhost:8080/",
          "height": 54
        },
        "id": "kyE1HID2GzgF",
        "outputId": "5414b4d1-7da7-40d4-de99-5e8f9dfa73c1"
      },
      "execution_count": null,
      "outputs": [
        {
          "output_type": "stream",
          "name": "stdout",
          "text": [
            " \n"
          ]
        },
        {
          "output_type": "execute_result",
          "data": {
            "text/plain": [
              "' HOLA MUNDO '"
            ],
            "application/vnd.google.colaboratory.intrinsic+json": {
              "type": "string"
            }
          },
          "metadata": {},
          "execution_count": 38
        }
      ]
    },
    {
      "cell_type": "code",
      "source": [
        "print(texto[0])"
      ],
      "metadata": {
        "colab": {
          "base_uri": "https://localhost:8080/"
        },
        "id": "nBuN-2-j1Smp",
        "outputId": "97a46269-8b4b-48d9-f275-dd13aaa972e5"
      },
      "execution_count": null,
      "outputs": [
        {
          "output_type": "stream",
          "name": "stdout",
          "text": [
            " \n"
          ]
        }
      ]
    },
    {
      "cell_type": "code",
      "source": [],
      "metadata": {
        "id": "LZF9LHaD0-mk"
      },
      "execution_count": null,
      "outputs": []
    },
    {
      "cell_type": "code",
      "source": [
        "txt=\"hola mundo \"\n",
        "print(txt)\n",
        "print(txt.upper())"
      ],
      "metadata": {
        "colab": {
          "base_uri": "https://localhost:8080/"
        },
        "id": "KPMQwnaeHATX",
        "outputId": "595e9221-4885-4122-8ae7-afa5541868c0"
      },
      "execution_count": null,
      "outputs": [
        {
          "output_type": "stream",
          "name": "stdout",
          "text": [
            "hola mundo \n",
            "HOLA MUNDO \n"
          ]
        }
      ]
    },
    {
      "cell_type": "code",
      "source": [
        "s7='hola'\n",
        "print(\"Esto {sujeto} una {verbo}.\".format(sujeto = \"prueba\", verbo = s7))"
      ],
      "metadata": {
        "id": "4xLh_rNo4BNZ"
      },
      "execution_count": null,
      "outputs": []
    },
    {
      "cell_type": "markdown",
      "source": [
        "## Ejercicios:\n",
        "\n",
        "1. Pide al usuario que escriba una frase e imprímela en mayúsculas.\n",
        "2. Solicita una palabra y muestra su primer y último carácter.\n",
        "3. Crea un programa que cuente cuántas veces aparece una letra específica en un string."
      ],
      "metadata": {
        "id": "xe3GeBLQIDNt"
      }
    },
    {
      "cell_type": "code",
      "source": [
        "#ejercicio 3\n",
        "palabra=\"He is currently currently working on the project.\"\n",
        "contador=0\n",
        "for letra in palabra:\n",
        "  if letra=='u':\n",
        "    contador=contador+1\n",
        "\n",
        "print(contador)"
      ],
      "metadata": {
        "colab": {
          "base_uri": "https://localhost:8080/"
        },
        "id": "43j7v9FLIU6b",
        "outputId": "e6e40317-27fe-441f-a850-550da0748d67"
      },
      "execution_count": null,
      "outputs": [
        {
          "output_type": "stream",
          "name": "stdout",
          "text": [
            "2\n"
          ]
        }
      ]
    },
    {
      "cell_type": "markdown",
      "source": [
        "##Listas\n",
        "\n",
        "<p><strong>Definición: </strong> Una lista es una colección ordenada de elementos que pueden ser de diferentes tipos. Se define utilizando corchetes [...].</p>\n"
      ],
      "metadata": {
        "id": "8NqlXOPhzrtv"
      }
    },
    {
      "cell_type": "markdown",
      "source": [
        "##Operaciones comunes con listas\n",
        "\n",
        "<p>1. Acceder a los elementos</p>"
      ],
      "metadata": {
        "id": "5vYI-HWH1KEW"
      }
    },
    {
      "cell_type": "code",
      "source": [
        "#Para acceder a los elementos se usan indices\n",
        "\n",
        "frutas = [\"manzana\", \"banana\", \"cereza\"]\n",
        "\n",
        "\n"
      ],
      "metadata": {
        "id": "KzoO1uId1AtZ"
      },
      "execution_count": null,
      "outputs": []
    },
    {
      "cell_type": "markdown",
      "source": [
        "<p> 2. Modificar listas </p>\n",
        "\n",
        "\n",
        "\n",
        "*   Agregar elementos: `append()`\n",
        "*   Insertar elementos en una posición específica: `insert()`\n",
        "*   Eliminar elementos: `remove() o pop()`.\n",
        "\n"
      ],
      "metadata": {
        "id": "I3608XFk1nk7"
      }
    },
    {
      "cell_type": "code",
      "source": [
        "frutas.append(\"naranja\")\n",
        "frutas.insert(1, \"pera\")\n",
        "frutas.remove(\"banana\")\n",
        "print(frutas)\n"
      ],
      "metadata": {
        "id": "pvkFIGZJ2R0F",
        "colab": {
          "base_uri": "https://localhost:8080/"
        },
        "outputId": "37f3307f-e12c-4e1f-e101-15d08db7b20f"
      },
      "execution_count": null,
      "outputs": [
        {
          "output_type": "stream",
          "name": "stdout",
          "text": [
            "['manzana', 'pera', 'pera', 'cereza', 'naranja', 'naranja', 'naranja']\n"
          ]
        }
      ]
    },
    {
      "cell_type": "code",
      "source": [
        "frutas.remove(\"naranja\")\n",
        "frutas"
      ],
      "metadata": {
        "colab": {
          "base_uri": "https://localhost:8080/"
        },
        "id": "UWsXcYtEmILC",
        "outputId": "5acf8307-8f13-4df4-a0b7-7044d00079ee"
      },
      "execution_count": null,
      "outputs": [
        {
          "output_type": "execute_result",
          "data": {
            "text/plain": [
              "['manzana', 'pera', 'pera', 'cereza', 'naranja']"
            ]
          },
          "metadata": {},
          "execution_count": 48
        }
      ]
    },
    {
      "cell_type": "markdown",
      "source": [
        "<p> 3. Recorrer una lista </p>"
      ],
      "metadata": {
        "id": "wgiaslIV3YSt"
      }
    },
    {
      "cell_type": "code",
      "source": [
        "a=[1,2,3,4,5,6,7,8]\n",
        "a[:]"
      ],
      "metadata": {
        "colab": {
          "base_uri": "https://localhost:8080/"
        },
        "id": "X_3nMuOq4kKe",
        "outputId": "eb8a2ac3-afea-4692-f0ac-ad822de4a831"
      },
      "execution_count": null,
      "outputs": [
        {
          "output_type": "execute_result",
          "data": {
            "text/plain": [
              "[1, 2, 3, 4, 5, 6, 7, 8]"
            ]
          },
          "metadata": {},
          "execution_count": 52
        }
      ]
    },
    {
      "cell_type": "code",
      "source": [
        "#a[0:2]\n",
        "a[::3]"
      ],
      "metadata": {
        "colab": {
          "base_uri": "https://localhost:8080/",
          "height": 109
        },
        "id": "ZyeM97iY4opf",
        "outputId": "c95acbd9-9af6-4895-f2be-027e436a6274"
      },
      "execution_count": null,
      "outputs": [
        {
          "output_type": "error",
          "ename": "SyntaxError",
          "evalue": "invalid syntax (<ipython-input-55-399127a9c65c>, line 2)",
          "traceback": [
            "\u001b[0;36m  File \u001b[0;32m\"<ipython-input-55-399127a9c65c>\"\u001b[0;36m, line \u001b[0;32m2\u001b[0m\n\u001b[0;31m    a[:::3]\u001b[0m\n\u001b[0m        ^\u001b[0m\n\u001b[0;31mSyntaxError\u001b[0m\u001b[0;31m:\u001b[0m invalid syntax\n"
          ]
        }
      ]
    },
    {
      "cell_type": "code",
      "source": [
        "for i in a:\n",
        "    print(i)\n"
      ],
      "metadata": {
        "colab": {
          "base_uri": "https://localhost:8080/"
        },
        "id": "QEclaVRB4qyP",
        "outputId": "efa20af4-e01c-45d1-cd12-3bb2c894b875"
      },
      "execution_count": null,
      "outputs": [
        {
          "output_type": "stream",
          "name": "stdout",
          "text": [
            "1\n",
            "2\n",
            "3\n",
            "4\n"
          ]
        }
      ]
    },
    {
      "cell_type": "code",
      "source": [
        "l = [1, 'a', 1.0, True]\n",
        "type(l)\n"
      ],
      "metadata": {
        "id": "87cLb0ax5UtP"
      },
      "execution_count": null,
      "outputs": []
    },
    {
      "cell_type": "code",
      "source": [
        "lista_anidada = [1, [2,1]]\n",
        "print(lista_anidada)"
      ],
      "metadata": {
        "colab": {
          "base_uri": "https://localhost:8080/"
        },
        "id": "nRUr9jZz5dgQ",
        "outputId": "1e794363-1df6-4be1-905e-8697db242d58"
      },
      "execution_count": null,
      "outputs": [
        {
          "output_type": "stream",
          "name": "stdout",
          "text": [
            "[1, [2, 1]]\n"
          ]
        }
      ]
    },
    {
      "cell_type": "code",
      "source": [
        "lista_anidada[1][0]\n",
        "\n",
        "# lista_anidada[1][1],\n"
      ],
      "metadata": {
        "colab": {
          "base_uri": "https://localhost:8080/"
        },
        "id": "MNYV0hVS5x7h",
        "outputId": "0b9cb09f-e738-40ad-f5af-31c8b042d25b"
      },
      "execution_count": null,
      "outputs": [
        {
          "output_type": "execute_result",
          "data": {
            "text/plain": [
              "2"
            ]
          },
          "metadata": {},
          "execution_count": 59
        }
      ]
    },
    {
      "cell_type": "code",
      "source": [
        "lista_anidada[1]"
      ],
      "metadata": {
        "colab": {
          "base_uri": "https://localhost:8080/"
        },
        "id": "9nMsubOf6QqG",
        "outputId": "7a99fa5a-684f-4106-8e82-7b17bf05e9e9"
      },
      "execution_count": null,
      "outputs": [
        {
          "output_type": "execute_result",
          "data": {
            "text/plain": [
              "[2, 1]"
            ]
          },
          "metadata": {},
          "execution_count": 15
        }
      ]
    },
    {
      "cell_type": "code",
      "source": [
        "a=[2,37]\n",
        "b=[5,6]\n",
        "\n",
        "a+b"
      ],
      "metadata": {
        "colab": {
          "base_uri": "https://localhost:8080/"
        },
        "id": "QWKtPm8gFIwJ",
        "outputId": "74ff1862-2fc8-492d-e056-a224841cb2cc"
      },
      "execution_count": null,
      "outputs": [
        {
          "output_type": "execute_result",
          "data": {
            "text/plain": [
              "[2, 37, 5, 6]"
            ]
          },
          "metadata": {},
          "execution_count": 21
        }
      ]
    },
    {
      "cell_type": "markdown",
      "source": [
        "## Ejercicios\n",
        "1. Crea una lista con 5 números y calcula su suma.\n",
        "2. Escribe un programa que permita agregar nombres a una lista\n",
        "3. hasta que el usuario escriba \"salir\".\n",
        "4. Escribe un programa que tome una lista de números y elimine los duplicados.\n"
      ],
      "metadata": {
        "id": "iRivLc1e5M1g"
      }
    },
    {
      "cell_type": "markdown",
      "source": [
        "##Diccionarios\n",
        "\n",
        "<p><strong>Definición: </strong>Un diccionario es una colección de elementos, donde cada uno tiene una llave key y un valor value. Se define utilizando llaves {.....}.</p>"
      ],
      "metadata": {
        "id": "vkHMqNqT7XZc"
      }
    },
    {
      "cell_type": "code",
      "source": [
        "#Ejemplo 1\n",
        "d1 = {\n",
        "  \"Nombre\": \"Sara\",\n",
        "  \"Edad\": 27,\n",
        "  \"Documento\": 1003882\n",
        "}\n",
        "d1\n",
        "#{'Nombre': 'Sara', 'Edad': 27, 'Documento': 1003882}"
      ],
      "metadata": {
        "id": "BcohILrQDh3S",
        "colab": {
          "base_uri": "https://localhost:8080/"
        },
        "outputId": "aecb2304-98de-4a64-ae2b-fcf6c87c63cd"
      },
      "execution_count": null,
      "outputs": [
        {
          "output_type": "execute_result",
          "data": {
            "text/plain": [
              "{'Nombre': 'Sara', 'Edad': 27, 'Documento': 1003882}"
            ]
          },
          "metadata": {},
          "execution_count": 63
        }
      ]
    },
    {
      "cell_type": "code",
      "source": [
        "#Ejemplo 2\n",
        "\n",
        "d2 = dict([\n",
        "      ('Nombre', 'Sara'),\n",
        "      ('Edad', 27),\n",
        "      ('Documento', 1003882),\n",
        "])\n",
        "print(d2)\n",
        "#{'Nombre': 'Sara', 'Edad': '27', 'Documento': '1003882'}"
      ],
      "metadata": {
        "id": "UTQNIOW8DoZk"
      },
      "execution_count": null,
      "outputs": []
    },
    {
      "cell_type": "markdown",
      "source": [
        "## Operaciones comunes en diccionarios\n",
        "\n",
        "<p> 1. Acceder a valores</p>"
      ],
      "metadata": {
        "id": "iextNnIQM5Hk"
      }
    },
    {
      "cell_type": "code",
      "source": [
        "persona = {\"nombre\": \"Ana\", \"edad\": 30, \"ciudad\": \"Medellín\"}\n",
        "print(persona[\"nombre\"],\" es de \", persona[\"ciudad\"])\n",
        "\n",
        "\n",
        "persona[\"ciudad\"]"
      ],
      "metadata": {
        "colab": {
          "base_uri": "https://localhost:8080/",
          "height": 54
        },
        "id": "dPdJZcM1M4P7",
        "outputId": "1cdd9c86-ccb8-4b0f-ba62-7e122331e39e"
      },
      "execution_count": null,
      "outputs": [
        {
          "output_type": "stream",
          "name": "stdout",
          "text": [
            "Ana  es de  Medellín\n"
          ]
        },
        {
          "output_type": "execute_result",
          "data": {
            "text/plain": [
              "'Medellín'"
            ],
            "application/vnd.google.colaboratory.intrinsic+json": {
              "type": "string"
            }
          },
          "metadata": {},
          "execution_count": 66
        }
      ]
    },
    {
      "cell_type": "markdown",
      "source": [
        "<p> 2. Agregar o modificar elementos</p>"
      ],
      "metadata": {
        "id": "hsng_GmKUQwn"
      }
    },
    {
      "cell_type": "code",
      "source": [
        "#persona[\"profesión\"] = \"Ingeniera\"\n",
        "persona[\"edad\"] = 31\n",
        "print(persona)\n"
      ],
      "metadata": {
        "colab": {
          "base_uri": "https://localhost:8080/"
        },
        "id": "aMPkVT1kUPyt",
        "outputId": "703770e5-bfab-4a04-c1ea-b88d7b3660c7"
      },
      "execution_count": null,
      "outputs": [
        {
          "output_type": "stream",
          "name": "stdout",
          "text": [
            "{'nombre': 'Ana', 'edad': 31, 'ciudad': 'Medellín', 'profesión': 'Ingeniera'}\n"
          ]
        }
      ]
    },
    {
      "cell_type": "code",
      "source": [
        "persona['profesión']"
      ],
      "metadata": {
        "colab": {
          "base_uri": "https://localhost:8080/",
          "height": 36
        },
        "id": "6AZRI6jOUPvJ",
        "outputId": "951f92be-3354-46ac-9517-d936efd96347"
      },
      "execution_count": null,
      "outputs": [
        {
          "output_type": "execute_result",
          "data": {
            "text/plain": [
              "'Ingeniera'"
            ],
            "application/vnd.google.colaboratory.intrinsic+json": {
              "type": "string"
            }
          },
          "metadata": {},
          "execution_count": 32
        }
      ]
    },
    {
      "cell_type": "markdown",
      "source": [
        "<p> 3. Recorrer un diccionarios </p>\n",
        "\n",
        "\n",
        "\n"
      ],
      "metadata": {
        "id": "oxJJpgmTV5v2"
      }
    },
    {
      "cell_type": "code",
      "source": [
        "for i,j in persona.items():\n",
        "    print(i,j)"
      ],
      "metadata": {
        "colab": {
          "base_uri": "https://localhost:8080/"
        },
        "id": "IkMdujU4UPl5",
        "outputId": "ccb2e124-3155-4654-a7ab-6cdb45f45f8d"
      },
      "execution_count": null,
      "outputs": [
        {
          "output_type": "stream",
          "name": "stdout",
          "text": [
            "nombre Ana\n",
            "edad 31\n",
            "ciudad Medellín\n",
            "profesión Ingeniera\n"
          ]
        }
      ]
    },
    {
      "cell_type": "markdown",
      "source": [
        "<p>4. Eliminar elementos</p>\n",
        "\n",
        "\n"
      ],
      "metadata": {
        "id": "tUmyaY9iWmWG"
      }
    },
    {
      "cell_type": "code",
      "source": [
        "del persona[\"ciudad\"]\n",
        "persona\n"
      ],
      "metadata": {
        "colab": {
          "base_uri": "https://localhost:8080/"
        },
        "id": "bIFg-ScxW8vl",
        "outputId": "4ce9c201-0b74-4ddc-acfb-808997339966"
      },
      "execution_count": null,
      "outputs": [
        {
          "output_type": "execute_result",
          "data": {
            "text/plain": [
              "{'nombre': 'Ana', 'edad': 31, 'profesión': 'Ingeniera'}"
            ]
          },
          "metadata": {},
          "execution_count": 34
        }
      ]
    },
    {
      "cell_type": "markdown",
      "source": [
        "##Ejercicios\n",
        "  1. Crea un diccionario con información de un estudiante (nombre,edad, curso) y muestra sus valores.\n",
        "  2. Escribe un programa que registre productos (nombre y precio) en un diccionario hasta que el usuario escriba \"fin\". Luego, imprime el total de los precios.\n",
        "  3. Haz un programa que tome un diccionario y permita al usuario actualizar uno de los valores."
      ],
      "metadata": {
        "id": "qIXaLe25ZJwh"
      }
    },
    {
      "cell_type": "markdown",
      "source": [
        " <a href=\"#contents\">Contenido<a><br>\n",
        "\n",
        " <p><a name=\"funciones\"></a></p>\n",
        "\n",
        " # 5. Funciones\n",
        "\n",
        "\n",
        "<p> <strong>Definición: </strong>Una función es un bloque de código reutilizable que realiza una tarea específica. Nos ayuda a evitar la repetición de código, mantenerlo organizado y más fácil de depurar.</p>\n",
        "\n",
        "Se define con la palabra clave `def ` seguida del nombre de la función y paréntesis. `def nombre_función():`"
      ],
      "metadata": {
        "id": "IgeN1C_4cXlJ"
      }
    },
    {
      "cell_type": "markdown",
      "source": [
        "##Partes de una función\n",
        "\n",
        "1. Nombre de la función: Identifica la función.\n",
        "2. Parámetros (opcional): Valores que la función recibe para trabajar.\n",
        "3. Cuerpo de la función: Instrucciones que la función ejecuta.\n",
        "4. Valor de retorno (opcional): Resultado que la función entrega después de ejecutarse."
      ],
      "metadata": {
        "id": "usPIeWKLsYWj"
      }
    },
    {
      "cell_type": "code",
      "source": [
        "#Ejemplo\n",
        "\"\"\" def nombre_funcion(parametros_opcionales):\n",
        "    # Cuerpo de la función\n",
        "    return valor_opcional \"\"\"\n"
      ],
      "metadata": {
        "id": "fxRO7Cw9sojH"
      },
      "execution_count": null,
      "outputs": []
    },
    {
      "cell_type": "markdown",
      "source": [
        "## Función si parametros y retornos"
      ],
      "metadata": {
        "id": "ITLESZxjjTN3"
      }
    },
    {
      "cell_type": "code",
      "source": [
        "def saludar():\n",
        "    print(\"¡Hola! Bienvenido a Python.\")\n",
        "\n",
        "saludar()\n"
      ],
      "metadata": {
        "id": "TzUd52NRjlLr"
      },
      "execution_count": null,
      "outputs": []
    },
    {
      "cell_type": "markdown",
      "source": [
        "## Función con parámetros"
      ],
      "metadata": {
        "id": "gUGV4Yfojp66"
      }
    },
    {
      "cell_type": "code",
      "source": [
        "def saludar_persona(nombre):\n",
        "    print(f\"¡Hola, {nombre}! ¿Cómo estás?\")\n",
        "\n",
        "saludar_persona(\"Ana\")  # Salida: ¡Hola, Ana! ¿Cómo estás?\n"
      ],
      "metadata": {
        "id": "Q_MrKL9xjpZ7"
      },
      "execution_count": null,
      "outputs": []
    },
    {
      "cell_type": "markdown",
      "source": [
        "## Función con retorno\n"
      ],
      "metadata": {
        "id": "6uyJtlzxkVCH"
      }
    },
    {
      "cell_type": "code",
      "source": [
        "def sumar(a, b):\n",
        "    return a + b\n",
        "\n",
        "resultado = sumar(3, 5)\n",
        "print(f\"La suma es: {resultado}\")"
      ],
      "metadata": {
        "id": "DP3cjFFql4_a"
      },
      "execution_count": null,
      "outputs": []
    },
    {
      "cell_type": "markdown",
      "source": [
        "## Otros ejemplos de funciones"
      ],
      "metadata": {
        "id": "q5lOw3-Fl03m"
      }
    },
    {
      "cell_type": "code",
      "source": [
        "#Parámetro opcionales\n",
        "\n",
        "def saludar(nombre=\"Invitado\"):\n",
        "    print(f\"¡Hola, {nombre}!\")\n",
        "\n",
        "saludar()  # Salida: ¡Hola, Invitado!\n",
        "saludar(\"Carlos\")  # Salida: ¡Hola, Carlos!\n"
      ],
      "metadata": {
        "id": "ZzFVtIWymARk"
      },
      "execution_count": null,
      "outputs": []
    },
    {
      "cell_type": "code",
      "source": [
        "# Localidad de las variables\n",
        "def ejemplo():\n",
        "    x = 10  # Variable local\n",
        "    print(x)\n",
        "\n",
        "ejemplo()\n",
        "# print(x)  # Esto daría error, porque x no está definida fuera de la función."
      ],
      "metadata": {
        "id": "V5kE4D95mXHy"
      },
      "execution_count": null,
      "outputs": []
    },
    {
      "cell_type": "code",
      "source": [
        "#Funciones con varios párametros\n",
        "\n",
        "def datos_personales(nombre, edad, ciudad):\n",
        "    print(f\"Nombre: {nombre}, Edad: {edad}, Ciudad: {ciudad}\")\n",
        "\n",
        "datos_personales(\"Ana\", 30, \"Medellín\")\n"
      ],
      "metadata": {
        "id": "9a0s48HBmiFT"
      },
      "execution_count": null,
      "outputs": []
    },
    {
      "cell_type": "markdown",
      "source": [
        "## Ejemplos básicos de funciones"
      ],
      "metadata": {
        "id": "KTAtt8xemx6x"
      }
    },
    {
      "cell_type": "code",
      "source": [
        "#Función para calcular el área de un triángulo\n",
        "#Crea una función que reciba la base y la altura de un triángulo y devuelva su área.\n",
        "\n",
        "def area_triangulo(base, altura):\n",
        "    return (base * altura) / 2\n",
        "\n",
        "print(area_triangulo(10, 5))  # Salida: 25.0\n"
      ],
      "metadata": {
        "id": "AEMnbQYAmxWd"
      },
      "execution_count": null,
      "outputs": []
    },
    {
      "cell_type": "code",
      "source": [
        "# Función para determinar si un número es par o impar\n",
        "def es_par(numero):\n",
        "    if numero % 2 == 0:\n",
        "        return True\n",
        "    else:\n",
        "        return False\n",
        "\n",
        "print(es_par(4))  # Salida: True\n",
        "print(es_par(7))  # Salida: False\n"
      ],
      "metadata": {
        "id": "6cMnuw58nCc3"
      },
      "execution_count": null,
      "outputs": []
    },
    {
      "cell_type": "code",
      "source": [
        "#Función para contar palabras\n",
        "def contar_palabras(texto):\n",
        "    palabras = texto.split()\n",
        "    return len(palabras)\n",
        "\n",
        "texto = \"Python es un lenguaje de programación versátil.\"\n",
        "print(contar_palabras(texto))  # Salida: 7\n"
      ],
      "metadata": {
        "id": "pJNrQLspnPRt"
      },
      "execution_count": null,
      "outputs": []
    },
    {
      "cell_type": "markdown",
      "source": [
        "## Ejercicios\n",
        "\n",
        "1. Crea una función que reciba un número y devuelva su factorial.\n",
        "2. Escribe una función que reciba una lista de números y devuelva la suma de los números pares.\n",
        "3. Crea una función que reciba un string y lo devuelva en orden inverso.\n",
        "4. Escribe una función que reciba un diccionario con productos y precios, y calcule el total de los precios."
      ],
      "metadata": {
        "id": "nf6QChdtnah1"
      }
    },
    {
      "cell_type": "markdown",
      "source": [
        "<a href=\"#contents\">Contenido<a><br>\n",
        "\n",
        " <p><a name=\"modulos\"></a></p>\n",
        "\n",
        " # 6. Módulos Math y Random\n",
        "\n",
        " ## Módulo math para operaciones mátematicas\n",
        "\n",
        " <p><strong>Definición :</strong></p>El módulo math es paquete funciones matemáticas preestablecidas para facilitar calcúlos en temas de trigonometría, logaritmos y potencias. Es útil cuando necesitamos realizar o desarrollar programas o codigos mas complejos volviendolos más sencillos.\n",
        "\n",
        " ## **Funciones del módulo `math`**\n",
        "\n",
        "| Función | Descripción | Ejemplo |\n",
        "|---------|------------|---------|\n",
        "| `math.sqrt(x)` | Raíz cuadrada de `x` | `math.sqrt(25) → 5.0` |\n",
        "| `math.pow(x, y)` | `x` elevado a la potencia `y` | `math.pow(2, 3) → 8.0` |\n",
        "| `math.hypot(x, y)` | Hipotenusa de un triángulo con lados `x` y `y` | `math.hypot(3, 4) → 5.0` |\n",
        "| `math.log(x, base)` | Logaritmo de `x` en la base especificada | `math.log(100, 10) → 2.0` |\n",
        "| `math.log10(x)` | Logaritmo base 10 de `x` | `math.log10(1000) → 3.0` |\n",
        "| `math.ceil(x)` | Redondea `x` hacia arriba | `math.ceil(4.3) → 5` |\n",
        "| `math.floor(x)` | Redondea `x` hacia abajo | `math.floor(4.7) → 4` |\n",
        "| `math.trunc(x)` | Trunca la parte decimal de `x` | `math.trunc(4.9) → 4` |\n",
        "| `math.radians(x)` | Convierte grados a radianes | `math.radians(180) → 3.1416` |\n",
        "| `math.degrees(x)` | Convierte radianes a grados | `math.degrees(3.1416) → 180.0` |\n",
        "\n",
        "---\n",
        "\n",
        "\n",
        "\n",
        "\n"
      ],
      "metadata": {
        "id": "VSY00tu41D9D"
      }
    },
    {
      "cell_type": "code",
      "source": [
        "#Ejemplos\n",
        "\n",
        "import math\n",
        "\n",
        "# Pedimos al usuario que ingrese los catetos\n",
        "cateto_a = float(input(\"Ingrese la longitud del primer cateto: \"))\n",
        "cateto_b = float(input(\"Ingrese la longitud del segundo cateto: \"))\n",
        "\n",
        "# Calculamos la hipotenusa usando el teorema de Pitágoras\n",
        "hipotenusa = math.sqrt(cateto_a**2 + cateto_b**2)\n",
        "\n",
        "# Mostramos el resultado\n",
        "print(\"La hipotenusa del triángulo es:\", hipotenusa)"
      ],
      "metadata": {
        "id": "DBeQEG-v924o"
      },
      "execution_count": null,
      "outputs": []
    },
    {
      "cell_type": "code",
      "source": [
        "import math\n",
        "\n",
        "# Pedimos al usuario que ingrese el radio del círculo\n",
        "radio = float(input(\"Ingrese el radio del círculo: \"))\n",
        "\n",
        "# Calculamos el área utilizando la fórmula A = πr²\n",
        "area = math.pi * radio**2\n",
        "\n",
        "# Mostramos el resultado\n",
        "print(\"El área del círculo es:\", area)"
      ],
      "metadata": {
        "id": "DNj-EqSW_i77"
      },
      "execution_count": null,
      "outputs": []
    },
    {
      "cell_type": "code",
      "source": [
        "# Redondeo de variables\n",
        "\n",
        "num = 4.989\n",
        "print(int(num))"
      ],
      "metadata": {
        "colab": {
          "base_uri": "https://localhost:8080/"
        },
        "id": "YWAgSlMfANFE",
        "outputId": "8096d02c-9078-4f3f-f79f-1837733e47c6"
      },
      "execution_count": null,
      "outputs": [
        {
          "output_type": "stream",
          "name": "stdout",
          "text": [
            "4\n"
          ]
        }
      ]
    },
    {
      "cell_type": "code",
      "source": [
        "import math\n",
        "\n",
        "num = 4.4\n",
        "print(math.floor(num))\n",
        "print(math.trunc(num))\n",
        "print(math.ceil(num))\n"
      ],
      "metadata": {
        "colab": {
          "base_uri": "https://localhost:8080/"
        },
        "id": "YVbdtrywBH0d",
        "outputId": "24ac86db-aadf-45a7-a4ea-5599f1a21a64"
      },
      "execution_count": null,
      "outputs": [
        {
          "output_type": "stream",
          "name": "stdout",
          "text": [
            "4\n",
            "4\n",
            "5\n"
          ]
        }
      ]
    },
    {
      "cell_type": "markdown",
      "source": [
        "## Módulo Random\n",
        "\n",
        "\n",
        "# **Funciones del módulo `random`**\n",
        "\n",
        "| Función | Descripción | Ejemplo |\n",
        "|---------|------------|---------|\n",
        "| `random.randint(a, b)` | Genera un número entero aleatorio entre `a` y `b` | `random.randint(1, 10) → 7` |\n",
        "| `random.random()` | Genera un número flotante entre 0 y 1 | `random.random() → 0.56` |\n",
        "| `random.uniform(a, b)` | Genera un número flotante entre `a` y `b` | `random.uniform(1, 5) → 3.87` |\n",
        "| `random.choice(lista)` | Selecciona un elemento aleatorio de una lista | `random.choice(['rojo', 'verde', 'azul']) → 'verde'` |\n",
        "| `random.choices(lista, k=n)` | Selecciona `n` elementos con reemplazo | `random.choices(['A', 'B', 'C'], k=2) → ['B', 'C']` |\n",
        "| `random.sample(lista, n)` | Selecciona `n` elementos sin repetición | `random.sample(range(1, 10), 3) → [2, 7, 5]` |\n",
        "| `random.shuffle(lista)` | Mezcla los elementos de una lista | `random.shuffle([1,2,3,4]) → [3,1,4,2]` |\n",
        "| `random.seed(x)` | Fija la semilla para reproducir resultados | `random.seed(42); random.randint(1,10) → 6` |\n"
      ],
      "metadata": {
        "id": "7BEOxV3eLGY1"
      }
    },
    {
      "cell_type": "code",
      "source": [
        "import random\n",
        "\n",
        "numero = random.randint(1, 100)\n",
        "print(f\"Número generado: {numero}\")\n",
        "\n",
        "if numero % 2 == 0:\n",
        "    print(\"Es un número par.\")\n",
        "else:\n",
        "    print(\"Es un número impar.\")\n"
      ],
      "metadata": {
        "colab": {
          "base_uri": "https://localhost:8080/"
        },
        "id": "h07RPv62AuDI",
        "outputId": "5620900e-b00f-4899-dbaa-e7fd8957d481"
      },
      "execution_count": null,
      "outputs": [
        {
          "output_type": "stream",
          "name": "stdout",
          "text": [
            "Número generado: 45\n",
            "Es un número impar.\n"
          ]
        }
      ]
    },
    {
      "cell_type": "code",
      "source": [
        "#simulación lanzamiento de un dado\n",
        "\n",
        "dado = random.randint(1, 6)\n",
        "print(f\"El dado cayó en: {dado}\")"
      ],
      "metadata": {
        "colab": {
          "base_uri": "https://localhost:8080/"
        },
        "id": "k10gIGqQAz4Y",
        "outputId": "7ccfc5dd-5edb-46b4-d374-9f4e5920c9c7"
      },
      "execution_count": null,
      "outputs": [
        {
          "output_type": "stream",
          "name": "stdout",
          "text": [
            "El dado cayó en: 3\n"
          ]
        }
      ]
    },
    {
      "cell_type": "code",
      "source": [
        "# Seleccionar elmento aleatorio de una lista\n",
        "\n",
        "nombres = [\"Ana\", \"Luis\", \"Carlos\", \"Sofía\", \"Miguel\"]\n",
        "seleccionado = random.choice(nombres)\n",
        "\n",
        "print(f\"La persona seleccionada es: {seleccionado}\")"
      ],
      "metadata": {
        "id": "vw9NjK7LBFzf"
      },
      "execution_count": null,
      "outputs": []
    },
    {
      "cell_type": "code",
      "source": [
        "#Seleccionar Elemento de un diccionario\n",
        "\n",
        "diccionario = {\"A\": 1, \"B\": 2, \"C\": 3, \"D\": 4}\n",
        "print(list(diccionario.keys()))\n",
        "clave_seleccionada = random.choice(list(diccionario.keys()))\n",
        "valor_seleccionado = diccionario[clave_seleccionada]\n",
        "print(valor_seleccionado)\n",
        "print(clave_seleccionada)"
      ],
      "metadata": {
        "colab": {
          "base_uri": "https://localhost:8080/"
        },
        "id": "eC1_ix9OBazj",
        "outputId": "e33953bc-7c59-48ec-c9db-450457ca1929"
      },
      "execution_count": null,
      "outputs": [
        {
          "output_type": "stream",
          "name": "stdout",
          "text": [
            "['A', 'B', 'C', 'D']\n",
            "1\n",
            "A\n"
          ]
        }
      ]
    },
    {
      "cell_type": "markdown",
      "source": [
        "<a href=\"#contents\">Contenido<a><br>\n",
        "\n",
        " <p><a name=\"clases\"></a></p>\n",
        "\n",
        " # 7. POO: Programación orientada objetos\n",
        "\n",
        " **Definición:** La programación orientada a objetos (POO) es un modelo de diseño de software que se basa en la creación de objetos y clases. La POO permite organizar el código de manera similar a cómo se entiende el mundo real\n",
        "\n",
        " La POO te permite:\n",
        "\n",
        "*  Modelar el mundo real: Representar objetos del mundo real como\n",
        "objetos en tu programa.\n",
        "*   Organizar el código: Agrupar datos y funciones relacionadas dentro de clases.\n",
        "*  Reutilizar código: Crear clases base y heredar de ellas para crear nuevas clases con funcionalidades similares.\n",
        "*  Hacer el código más fácil de entender y mantener: Al organizar el código en objetos, es más fácil seguir la lógica del programa."
      ],
      "metadata": {
        "id": "hzoM0wh5JBms"
      }
    },
    {
      "cell_type": "markdown",
      "source": [
        "### 1. Definición de una clase\n",
        "En Python, las clases se definen con la palabra clave class. Por ejemplo:"
      ],
      "metadata": {
        "id": "_Ubcu--NPCN-"
      }
    },
    {
      "cell_type": "code",
      "source": [
        "class Coche:\n",
        "    pass\n",
        "\n",
        "#Aquí hemos creado una clase llamada Coche. En este caso, la clase no tiene atributos ni métodos, solo está definida."
      ],
      "metadata": {
        "id": "xhy9vtnjJAj6"
      },
      "execution_count": null,
      "outputs": []
    },
    {
      "cell_type": "markdown",
      "source": [
        "## 2. Atributos de la clase\n",
        "Los atributos son las características de los objetos. Se definen dentro del método especial `__init__`, que se ejecuta cuando se crea una instancia de la clase. Por ejemplo:\n",
        "\n",
        "*  `self` hace referencia a la instancia actual de la clase.\n",
        "*  marca, modelo y color son atributos que cada coche tendrá."
      ],
      "metadata": {
        "id": "MvmZFwCNPIn6"
      }
    },
    {
      "cell_type": "code",
      "source": [
        "class Coche:\n",
        "    def __init__(self, marca, modelo, color):\n",
        "        self.marca = marca\n",
        "        self.modelo = modelo\n",
        "        self.color = color\n"
      ],
      "metadata": {
        "id": "cjuve8GqPdfW"
      },
      "execution_count": null,
      "outputs": []
    },
    {
      "cell_type": "markdown",
      "source": [
        "## 3. Crear una instancia de la clase\n",
        "Para crear una instancia de una clase, se llama a la clase como si fuera una función, pasando los argumentos definidos en el método `__init__`."
      ],
      "metadata": {
        "id": "dr-a-tNXPe8p"
      }
    },
    {
      "cell_type": "code",
      "source": [
        "mi_coche = Coche(\"Toyota\", \"Corolla\", \"rojo\")\n",
        "print(mi_coche.marca)  # Salida: Toyota"
      ],
      "metadata": {
        "colab": {
          "base_uri": "https://localhost:8080/"
        },
        "id": "37YsDrL6QFgu",
        "outputId": "c5a6d4c7-f6d7-4aa6-9f9e-f6c348c0828e"
      },
      "execution_count": null,
      "outputs": [
        {
          "output_type": "stream",
          "name": "stdout",
          "text": [
            "Toyota\n"
          ]
        }
      ]
    },
    {
      "cell_type": "markdown",
      "source": [
        "##4. Métodos de la clase\n",
        "Los métodos son funciones que definen el comportamiento de los objetos. Se definen dentro de la clase, al igual que los atributos."
      ],
      "metadata": {
        "id": "xFqf53rGQM6S"
      }
    },
    {
      "cell_type": "code",
      "source": [
        "class coche:\n",
        "    def __init__(self, marca, modelo, color):\n",
        "        self.marca = marca\n",
        "        self.modelo = modelo\n",
        "        self.color = color\n",
        "\n",
        "    def descripcion(self):\n",
        "        return f\"Este es un {self.marca} {self.modelo} de color {self.color}.\"\n",
        "\n",
        "    def cambiar_color(self, nuevo_color):\n",
        "        self.color = nuevo_color\n",
        "        return f\"El color del coche ha sido cambiado a {nuevo_color}.\"\n",
        "\n",
        "carro2=coche(\"Mazda\",\"2025\",\"Rojo\")\n",
        "\n",
        "carro2.cambiar_color(\"Azul\")"
      ],
      "metadata": {
        "colab": {
          "base_uri": "https://localhost:8080/",
          "height": 36
        },
        "id": "WXbh2Ka0QR0s",
        "outputId": "17a59d44-0345-4823-8f6e-add37fa43f05"
      },
      "execution_count": null,
      "outputs": [
        {
          "output_type": "execute_result",
          "data": {
            "text/plain": [
              "'El color del coche ha sido cambiado a Azul.'"
            ],
            "application/vnd.google.colaboratory.intrinsic+json": {
              "type": "string"
            }
          },
          "metadata": {},
          "execution_count": 33
        }
      ]
    },
    {
      "cell_type": "code",
      "source": [
        "carro2.descripcion()"
      ],
      "metadata": {
        "colab": {
          "base_uri": "https://localhost:8080/",
          "height": 36
        },
        "id": "etSoHu4GQaWI",
        "outputId": "a118d570-5610-4edd-d0f6-1f48572c7f7f"
      },
      "execution_count": null,
      "outputs": [
        {
          "output_type": "execute_result",
          "data": {
            "text/plain": [
              "'Este es un Mazda 2025 de color Azul.'"
            ],
            "application/vnd.google.colaboratory.intrinsic+json": {
              "type": "string"
            }
          },
          "metadata": {},
          "execution_count": 34
        }
      ]
    },
    {
      "cell_type": "markdown",
      "source": [
        "## Ejercicios:\n",
        "\n",
        "### 1. Contador de Visitas\n",
        "\n",
        "Crea una clase Contador que lleve un registro de cuántas veces se ha incrementado un contador. Debe tener los siguientes métodos:\n",
        "\n",
        "*  `incrementar()`: Aumenta el contador en 1.\n",
        "*  `disminuir()`: Reduce el contador en 1 (sin permitir valores negativos).\n",
        "* `reiniciar()`: Restablece el contador a 0.\n",
        "* `mostrar() `: Devuelve el valor actual del contador.\n",
        "\n",
        "\n",
        "\n",
        "\n",
        "\n",
        "\n",
        "\n",
        "\n",
        "\n"
      ],
      "metadata": {
        "id": "0i5fUuXudWvm"
      }
    },
    {
      "cell_type": "code",
      "source": [
        "class contador:\n",
        "    def __init__(self, cont):\n",
        "        self.cont = cont\n",
        "\n",
        "    def incrementar(self):\n",
        "      self.cont= self.cont+1\n",
        "      return self.cont\n",
        "\n",
        "    def disminuir(self):\n",
        "      if self.cont>0:\n",
        "        self.cont=self.cont-1\n",
        "      else :\n",
        "        self.cont=0\n",
        "      return self.cont\n",
        "\n",
        "    def reiniciar(self):\n",
        "      self.cont=0\n",
        "      return self.cont\n",
        "\n",
        "    def mostrar(self):\n",
        "      return self.cont\n",
        "\n"
      ],
      "metadata": {
        "id": "n4-6j4PQ21It"
      },
      "execution_count": null,
      "outputs": []
    },
    {
      "cell_type": "markdown",
      "source": [
        "### 2. Cajero Automatico\n",
        "\n",
        "Crea una clase Cajero que simule un cajero automático con los siguientes métodos:\n",
        "\n",
        "*  `depositar(cantidad)`: Añade dinero a la cuenta.\n",
        "*  `retirar(cantidad)`: Retira dinero si hay suficiente saldo.\n",
        "*  `consultar_saldo()`: Devuelve el saldo actual.\n",
        "\n",
        "\n",
        "### 3. Administrador de lista de compras\n",
        "\n",
        "Crea una clase ListaCompras que permita:\n",
        "\n",
        "*  Agregar un producto a la lista.\n",
        "*  Eliminar un producto de la lista.\n",
        "*  Mostrar la lista de compras actual."
      ],
      "metadata": {
        "id": "2WCte5RU44VT"
      }
    }
  ]
}