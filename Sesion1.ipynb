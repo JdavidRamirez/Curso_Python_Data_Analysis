{
  "nbformat": 4,
  "nbformat_minor": 0,
  "metadata": {
    "colab": {
      "provenance": [],
      "mount_file_id": "1hfmqh3nrpnSdMo6uTI2Iyghl7tOXqDFK",
      "authorship_tag": "ABX9TyOZBFwjf7BlTd+St5H12mQC",
      "include_colab_link": true
    },
    "kernelspec": {
      "name": "python3",
      "display_name": "Python 3"
    },
    "language_info": {
      "name": "python"
    }
  },
  "cells": [
    {
      "cell_type": "markdown",
      "metadata": {
        "id": "view-in-github",
        "colab_type": "text"
      },
      "source": [
        "<a href=\"https://colab.research.google.com/github/JdavidRamirez/Curso_Python_Data_Analysis/blob/main/Sesion1.ipynb\" target=\"_parent\"><img src=\"https://colab.research.google.com/assets/colab-badge.svg\" alt=\"Open In Colab\"/></a>"
      ]
    },
    {
      "cell_type": "markdown",
      "source": [
        "<p><img alt=\"Colaboratory logo\" height=\"140px\" src=\"https://upload.wikimedia.org/wikipedia/commons/thumb/c/c3/Python-logo-notext.svg/800px-Python-logo-notext.svg.png\" align=\"left\" hspace=\"10px\" vspace=\"0px\"></p>\n",
        "<h1>Fundamentos de Python enfocado en el análisis y transformación de datos</h1>\n",
        "\n",
        "<p>Aprende fundamentos de código en el lenguaje de programación Python para manejar, visualizar y analizar datos de manera práctica y efectiva.</p>\n"
      ],
      "metadata": {
        "id": "XyQbWY9S554q"
      }
    },
    {
      "cell_type": "markdown",
      "source": [
        "\n",
        "<p><a name=\"contents\"></a></p>\n",
        "<h1> Tabla de contenidos : </h1>\n",
        "\n",
        "- <a href=\"#colabIntro\">1. Introducción a Google Colaboratory   <a><br>\n",
        "- <a href=\"#fundamentos\">2. Nombres, asignación y tipos fundamentales de variables</a><br>\n",
        "- <a href=\"#estructurasControl\">3. Condicionales y bucles</a></br>\n",
        "- <a href=\"#stringListdic\">4. Strings, listas y diccionarios</a></br>\n",
        "- <a href=\"#funciones\">5. Funciones</a></br>\n",
        "\n",
        "\n"
      ],
      "metadata": {
        "id": "0rWW3LR2B1Nf"
      }
    },
    {
      "cell_type": "markdown",
      "source": [
        "<a href=\"#contents\">Contenido<a><br>\n",
        "<p><a name=\"colabIntro\"></a></p>\n",
        "<h2> 1. ¿Qué es Google Colab o Colaboratory? </h2>\n",
        "\n",
        "<p> Google Collaboratory, o Google Colab, es una herramienta gratuita basada en la nube que permite escribir y ejecutar código Python directamente desde un navegador. Es especialmente útil para proyectos de aprendizaje automático, análisis de datos y colaboración.</p>\n",
        "\n",
        "<div><h3> ¿Qué puedes hacer con Colab ?</h3>\n",
        "\n",
        "- Acceso gratuito desde cualquier lugar no necesitas instalar software, solo necesitas una cuenta de Google y un navegador web.\n",
        "\n",
        "- Genera gráficos y visualizaciones de manera rápida utilizando bibliotecas como Matplotlib y Seaborn.\n",
        "\n",
        "- Comparte tu notebook con otros, permitiendo ediciones y comentarios colaborativos.\n",
        "\n",
        "- Integración de bases de datos en SQL para análisis avanzado.\n",
        "\n",
        "- Acceso a herramientas como Pandas para manipulación de datos, NumPy para cálculos matemáticos y Scikit-learn para machine learning.\n",
        "\n",
        "- Usa celdas de texto para explicar paso a paso el análisis, ideal para compartir con personas no técnicas.\n",
        "\n",
        "- Automatiza análisis recurrentes sin necesidad de interacción manual.\n",
        "\n",
        "- Accede a datasets comunes directamente desde bibliotecas como Seaborn para practicar análisis sin necesidad de buscar datos externos.\n",
        "</div>"
      ],
      "metadata": {
        "id": "ITvqWSRs818D"
      }
    },
    {
      "cell_type": "markdown",
      "source": [
        "<div>\n",
        "<h3>Pasos iniciales: </h3>\n",
        "\n",
        "1. Acceso a Google Colab\n",
        "- Ve a [Google Colab.](https://colab.research.google.com/)\n",
        "- Inicia sesión con tu cuenta de Google.\n",
        "2. Copia este Notebook de estudio\n",
        "3. Exploración de entorno de trabajo\n",
        "4. Mi primer script en una celda de código `print(\"Hola Mundo!)`\n",
        "\n",
        "\n",
        "</div>"
      ],
      "metadata": {
        "id": "lrJc2flt1F4t"
      }
    },
    {
      "cell_type": "code",
      "source": [
        "#Este es mi primer Script\n",
        "print(\"Hola Mundo!\")"
      ],
      "metadata": {
        "id": "BDenD_R64meE"
      },
      "execution_count": null,
      "outputs": []
    },
    {
      "cell_type": "markdown",
      "source": [
        "<a href=\"#contents\">Contenido<a><br>\n",
        "<p><a name=\"fundamentos\"></a></p>\n",
        "\n",
        "# 2. Nombres, asignación y tipos fundamentales de variables\n",
        "\n",
        "<div><h3>Nombres y asignación de variables </h3>\n",
        "\n",
        "<p>Definición: En la mayoría de lenguajes de programación existe el concepto de variables. Las variables permiten asignar nombres coherentes a información para ser reutilizada con facilidad.\n",
        "\n",
        "Por convención, los nombres de las variables comienzan con letras minúsculas, y los nombres de las Clases con letras mayúsculas.\n",
        "\n",
        "<strong> Nota: </strong>Adicionalmente, existe un número de palabras claves que no pueden ser usadas como nombres de variables. Estas palabras claves son:\n",
        "\n",
        "> `and, as, assert, break, class, continue, def, del, elif, else, except, exec, finally, for, from, global, if, import, in, is, lambda, not, or, pass, print, raise, return, try, while, with, yield`\n",
        "</div>\n",
        "\n",
        "<strong>Conceptos clave:</strong>\n",
        "Los nombres de las variables deben ser descriptivos.\n",
        "No pueden comenzar con un número ni contener espacios.\n"
      ],
      "metadata": {
        "id": "zXTck6rjOxGp"
      }
    },
    {
      "cell_type": "code",
      "source": [
        "#Asignaciones simples\n",
        "Asignaciones_simplesstr_color = 'Red'\n",
        "num_of_cards = 56\n",
        "pi_number = 13.1416\n",
        "buy_list = ['Bread', 'Rise', 'Oil']"
      ],
      "metadata": {
        "id": "MML6I-Ul8y-z"
      },
      "execution_count": null,
      "outputs": []
    },
    {
      "cell_type": "code",
      "execution_count": null,
      "metadata": {
        "id": "5w1hJU3-52oJ"
      },
      "outputs": [],
      "source": [
        "#Asignaciones múltiples\n",
        "str_red, str_blue = 'Red', 'Blue'\n",
        "cards, half_cards = 56, 28\n",
        "pi_number, g_force = 13.1415, 9.8\n",
        "ltr1, ltr2, ltr3 = 'Red'"
      ]
    },
    {
      "cell_type": "code",
      "source": [
        "#Verificando el contenido de las variables\n",
        "print(pi_number,g_force)\n",
        "print(str_blue)\n",
        "print(cards)\n",
        "print(buy_list)\n",
        "print(str_red, str_blue)"
      ],
      "metadata": {
        "id": "5uH97DAC8JdK",
        "colab": {
          "base_uri": "https://localhost:8080/"
        },
        "outputId": "6849cf5a-f645-4358-a82d-9fb5e0475098"
      },
      "execution_count": null,
      "outputs": [
        {
          "output_type": "stream",
          "name": "stdout",
          "text": [
            "13.1416 9.8\n",
            "Blue\n",
            "56\n",
            "['Bread', 'Rise', 'Oil']\n",
            "Red Blue\n"
          ]
        }
      ]
    },
    {
      "cell_type": "markdown",
      "source": [
        "<div>\n",
        "<h3>Tipos fundamentales de datos</h3>\n",
        "<p>Python tiene varios tipos de variables entre ellos:\n",
        "\n",
        "- Enteros (int): números sin decimales.\n",
        "- Flotantes (float): números con decimales.\n",
        "- Cadenas (str): texto.\n",
        "- Booleanos (bool): True o False.\n",
        "\n",
        "</p>\n",
        "\n",
        "<div>"
      ],
      "metadata": {
        "id": "Mwq1SvP588mI"
      }
    },
    {
      "cell_type": "code",
      "source": [
        "#Ejemplos\n",
        "numero = 10\n",
        "altura = 1.75\n",
        "mensaje = \"Hola, mundo!\"\n",
        "activo = True\n",
        "\n",
        "#La función type() nos permite saber el tipo de variables\n",
        "type(activo)"
      ],
      "metadata": {
        "id": "SgdSYDT4A-YE"
      },
      "execution_count": null,
      "outputs": []
    },
    {
      "cell_type": "code",
      "source": [
        "#Operadores\n",
        "\n",
        "2+2, 7*3, 14//3, 14%4"
      ],
      "metadata": {
        "colab": {
          "base_uri": "https://localhost:8080/"
        },
        "id": "DdYi27DfDcH0",
        "outputId": "a8e0fc7f-ebdb-49fe-ca76-5e3c57a01c8e"
      },
      "execution_count": null,
      "outputs": [
        {
          "output_type": "execute_result",
          "data": {
            "text/plain": [
              "(4, 21, 4, 2)"
            ]
          },
          "metadata": {},
          "execution_count": 4
        }
      ]
    },
    {
      "cell_type": "markdown",
      "source": [
        "<a href=\"#contents\">Contenido<a><br>\n",
        "<p><a name=\"estructurasControl\"></a></p>\n",
        "\n",
        "# 3. Condicionales y bucles</h3>\n",
        "\n",
        "<div>\n",
        "<h3>Condicionales</h3>\n",
        "<p><strong>Definición:</strong> Los condicionales son preguntas que el programa se hace para decidir qué hacer a continuación como <strong>\"Si pasa esto, pasa lo otro\"</strong>. Estas preguntas normalmente son conocidas como estructuras de control.</p>\n",
        "\n",
        "Por ejemplo:\n",
        "- Si llueve, me pongo un paraguas.\n",
        "- Si tengo hambre, como algo.\n",
        "</div>\n",
        "<div>\n",
        "<p>La sintaxis para implementar estas preguntas o estructuras de control es: </p>\n",
        "\n",
        "````\n",
        "if condicion:\n",
        "    # Código si la condición es verdadera\n",
        "elif otra_condicion:\n",
        "    # Código si la otra condición es verdadera\n",
        "else:\n",
        "    # Código si ninguna condición es verdadera\n",
        "````\n",
        "\n",
        "</div>"
      ],
      "metadata": {
        "id": "Vst8C0punLyb"
      }
    },
    {
      "cell_type": "code",
      "source": [
        "#Ejemplo\n",
        "\n",
        "edad = 18\n",
        "\n",
        "if edad >= 18:  # Si la edad es mayor o igual a 18...\n",
        "    print(\"Eres mayor de edad\")  # ...entonces imprime este mensaje.\n",
        "else:\n",
        "    print(\"Eres menor de edad\")  # Si no, imprime este otro mensaje.\n"
      ],
      "metadata": {
        "id": "Y87HDGXyyQv5"
      },
      "execution_count": null,
      "outputs": []
    },
    {
      "cell_type": "code",
      "source": [
        "#Función input()\n",
        "\n",
        "edad = int(input(\"Ingresa tu edad: \"))\n",
        "\n",
        "nombre =str(input(\"Ingresa tu nombre: \"))\n",
        "\n",
        "altura= float(input(\"Ingresa tu altura:\"))\n",
        "\n"
      ],
      "metadata": {
        "id": "j7OVSDm9y5oL"
      },
      "execution_count": null,
      "outputs": []
    },
    {
      "cell_type": "markdown",
      "source": [
        "<a href=\"#contents\">Contenido<a><br>\n",
        "<div>\n",
        "<h3>Ejercicios para practicar: </h3>\n",
        "<p>1. Escribe un programa que pregunte al usuario cómo está el clima y dé un mensaje apropiado según la respuesta. Por ejemplo:\n",
        "\n",
        "  - Si el usuario dice \"soleado\", imprime: \"¡No olvides tus gafas de sol!\".\n",
        "  - Si dice \"lluvioso\", imprime: \"Lleva un paraguas\".\n",
        "  - Si dice algo diferente, imprime: \"¡Disfruta tu día!\".</p>\n",
        "\n",
        "<p>2. Crea un programa que le pida al usuario que ingrese un número y determine si es par o impar.\n",
        "\n",
        "   - Si el número es par, imprime: \"El número X es par\".\n",
        "   - Si es impar, imprime: \"El número X es impar\".</p>\n",
        "</div>"
      ],
      "metadata": {
        "id": "eSHKEtgOyzMv"
      }
    },
    {
      "cell_type": "markdown",
      "source": [
        "<p><strong>Pregunta:</strong> ¿Qué operación se esta realizando con el simbolo % ?</p>"
      ],
      "metadata": {
        "id": "o5N7k1JD1n-X"
      }
    },
    {
      "cell_type": "code",
      "source": [
        "#Pistas ejercicio 2.\n",
        "\n",
        "#numero=2\n",
        "#numero=20\n",
        "#numero=3\n",
        "#numero=7\n",
        "\n",
        "numero%2==0\n"
      ],
      "metadata": {
        "colab": {
          "base_uri": "https://localhost:8080/"
        },
        "id": "LxJ79cMa0rbe",
        "outputId": "c8da86e9-898c-43e0-95ec-e4f7fc4eb965"
      },
      "execution_count": null,
      "outputs": [
        {
          "output_type": "execute_result",
          "data": {
            "text/plain": [
              "False"
            ]
          },
          "metadata": {},
          "execution_count": 11
        }
      ]
    },
    {
      "cell_type": "markdown",
      "source": [
        "<a href=\"#contents\">Contenido<a><br>\n",
        "<div>\n",
        "<h3>Bucles o ciclos</h3>\n",
        "\n",
        "<p><strong>Definición : </strong> Un bucle o ciclo es una forma de repetir algo muchas veces (un código) sin tener que escribirlo una y otra vez.</p>\n",
        "\n",
        "<p>Por ejemplo en el código para saber si alguién es mayor de edad teníamos que reescribir varias veces la edad para probar como funcionaba con diferentes edades.</p>\n",
        "\n",
        "<h3>Tipos de Bucle: </h3>\n",
        "\n",
        "- Bucle `for`: Se usa para repetir algo un número definido de veces.\n",
        "- Bucle `while`: Se usa cuando no sabes exactamente cuántas veces repetir algo, pero sí sabes que quieres hacerlo mientras una condición sea verdadera.\n",
        "\n",
        "\n",
        "\n",
        "</div>"
      ],
      "metadata": {
        "id": "YBlkjEXw1_b0"
      }
    },
    {
      "cell_type": "code",
      "source": [
        "#Ejemplor for\n",
        "#Escribe los números del 1 al 5\n",
        "\n",
        "for numero in range(1, 6):  # range(1, 6) crea los números 1, 2, 3, 4, 5\n",
        "    print(numero)"
      ],
      "metadata": {
        "colab": {
          "base_uri": "https://localhost:8080/"
        },
        "id": "KypNp2SqEO4E",
        "outputId": "771985ba-33cf-42f5-d694-4473ff9814a9"
      },
      "execution_count": null,
      "outputs": [
        {
          "output_type": "stream",
          "name": "stdout",
          "text": [
            "1\n",
            "2\n",
            "3\n",
            "4\n",
            "5\n"
          ]
        }
      ]
    },
    {
      "cell_type": "code",
      "source": [
        "#Ejemplo While\n",
        "#Es como decir: \"Sigue haciendo esto mientras pase algo\".\n",
        "#Escribe los números del 1 al 5\n",
        "\n",
        "numero = 1  # Comenzamos en 1\n",
        "while numero <= 5:  # Mientras el número sea menor o igual a 5\n",
        "    print(numero)\n",
        "    numero += 1  # Incrementamos el número en 1 cada vez"
      ],
      "metadata": {
        "id": "JpQGIsFJEpQT"
      },
      "execution_count": null,
      "outputs": []
    },
    {
      "cell_type": "markdown",
      "source": [
        "\n",
        "\n",
        " ## ¿Cuando usar `for` o `while`?\n",
        "\n",
        "`for`: Se usa porque sabemos cuántos nombres hay en la lista y queremos procesarlos uno por uno.\n",
        "\n",
        "`while`: Se usa porque no sabemos cuántas veces el usuario tardará en adivinar el número correcto; el bucle depende de una condición."
      ],
      "metadata": {
        "id": "E3gdKiEAICzO"
      }
    },
    {
      "cell_type": "code",
      "source": [
        "# Bucle FOR: Recorremos una lista de nombres porque sabemos exactamente cuántos nombres hay\n",
        "nombres = [\"Ana\", \"Luis\", \"Pedro\"]\n",
        "print(\"Usando FOR:\")\n",
        "for nombre in nombres:\n",
        "    print(f\"Hola, {nombre}!\")  # Saluda a cada persona de la lista\n",
        "\n",
        "# Bucle WHILE: Pedimos al usuario que adivine un número hasta que acierte (no sabemos cuántas veces se repetirá)\n",
        "numero_correcto = 7\n",
        "adivina = 0  # Inicializamos con un valor diferente al correcto\n",
        "print(\"\\nUsando WHILE:\")\n",
        "while adivina != numero_correcto:\n",
        "    adivina = int(input(\"Adivina el número (del 1 al 10): \"))\n",
        "    if adivina != numero_correcto:\n",
        "        print(\"¡Intenta de nuevo!\")\n",
        "print(\"¡Adivinaste!\")"
      ],
      "metadata": {
        "id": "cCsqsrq9H_56"
      },
      "execution_count": null,
      "outputs": []
    },
    {
      "cell_type": "markdown",
      "source": [
        "## Ejercicios:\n",
        "\n",
        "1.  Crea un programa que le pida al usuario números uno por uno sume esos números. El programa termina cuando el usuario escriba el número `0`.\n",
        "2. Escribe un programa que imprima todos los números pares entre `1` y `20`.\n",
        "3. Haz un programa que pida al usuario escribir su edad y solo continúe si introduce un número mayor que `0`.</li>\n",
        "4. Escribir un programa que pida al usuario una palabra y la muestre `10` veces por pantalla.</li>\n",
        "\n",
        "\n",
        "\n",
        "\n",
        "\n"
      ],
      "metadata": {
        "id": "jbcOaMf2KUIW"
      }
    },
    {
      "cell_type": "markdown",
      "source": [
        " <a href=\"#contents\">Contenido<a><br>\n",
        "\n",
        " <p><a name=\"stringListdic\"></a></p>\n",
        "\n",
        " # 4. String, listas y diccionarios\n",
        "\n",
        " ## Strings\n",
        "\n",
        " <p><strong>Definición:</strong> Un string es una secuencia de caracteres que se usa para representar texto en Python. Se define de la siguiente manera: </p>\n",
        "\n",
        "```\n",
        "Usando comillas simples ' o dobles \"\n",
        "```\n"
      ],
      "metadata": {
        "id": "3sm8rz9HIWyr"
      }
    },
    {
      "cell_type": "code",
      "source": [
        "#Ejemplos de cadenas o Strings\n",
        "a='Esto es una c'\n",
        "b=\"Estos es otra cadena\"\n",
        "c=\"esto tambien no es una cadena'"
      ],
      "metadata": {
        "id": "lAE8AfJ9IVns"
      },
      "execution_count": null,
      "outputs": []
    },
    {
      "cell_type": "code",
      "source": [
        "cadena= \"Los strings pueden ser tan largos como uno quiera, definitivamente mira como es de largo..............................................\"\n",
        "print(cadena)"
      ],
      "metadata": {
        "colab": {
          "base_uri": "https://localhost:8080/"
        },
        "id": "hcAQTfXG_cy0",
        "outputId": "0166d77b-1f28-45a9-b417-78e6cbcf6b82"
      },
      "execution_count": null,
      "outputs": [
        {
          "output_type": "stream",
          "name": "stdout",
          "text": [
            "Los strings pueden ser tan largos como uno quiera, definitivamente mira como es de largo..............................................\n"
          ]
        }
      ]
    },
    {
      "cell_type": "markdown",
      "source": [
        "## Operaciones comunes con Strings\n",
        "\n",
        " 1. Concatenar strings o unir dos o más cadenas.\n",
        "\n",
        "\n"
      ],
      "metadata": {
        "id": "6lhITeFjXRuO"
      }
    },
    {
      "cell_type": "code",
      "source": [
        "saludo = \"Hola\"\n",
        "nombre = \"Juan\"\n",
        "mensaje = saludo + \", \" + nombre + \"!\"\n",
        "print(mensaje)"
      ],
      "metadata": {
        "id": "CMTo8lsxYHJm"
      },
      "execution_count": null,
      "outputs": []
    },
    {
      "cell_type": "markdown",
      "source": [
        "<div>\n",
        "<p> 2.  Acceder a caracteres especiales </p>\n",
        "</div>\n",
        "\n"
      ],
      "metadata": {
        "id": "FZmz2t30CLhx"
      }
    },
    {
      "cell_type": "code",
      "source": [
        "palabra = \"Hola mundo\"\n",
        "print(palabra[0])  # Salida: P (primer carácter)\n",
        "print(palabra[-1])  # Salida: n (último carácter)\n",
        "print(palabra[2:6])  # Salida: la m (desde el índice 2 hasta el 5)\n",
        "print(palabra[:5])\n"
      ],
      "metadata": {
        "colab": {
          "base_uri": "https://localhost:8080/"
        },
        "id": "yJkReuJ4C1Gm",
        "outputId": "0fdc94c8-0964-4445-dd3f-287f64ea4aca"
      },
      "execution_count": null,
      "outputs": [
        {
          "output_type": "stream",
          "name": "stdout",
          "text": [
            "H\n",
            "o\n",
            "la m\n",
            "Hola \n"
          ]
        }
      ]
    },
    {
      "cell_type": "markdown",
      "source": [
        "<div>\n",
        "<p> 3. Métodos útiles para trabajar con strings </p>\n",
        "</div>\n",
        "\n",
        "- `upper()`: Convierte en Mayúsculas.\n",
        "- `lower()`: Convierte en Minisculas.\n",
        "- `strip()`: Elimina espacios al inicio y al final.\n",
        "- `replace()`: Reemplaza una parte del string.\n",
        "\n"
      ],
      "metadata": {
        "id": "pZmqG6SGDRpN"
      }
    },
    {
      "cell_type": "code",
      "source": [
        "texto = \"  Hola Mundo  \"\n",
        "print(texto.strip())  # Salida: Hola Mundo\n",
        "print(texto.replace(\"Mundo\", \"Python\"))  # Salida: Hola Python\n"
      ],
      "metadata": {
        "colab": {
          "base_uri": "https://localhost:8080/"
        },
        "id": "kyE1HID2GzgF",
        "outputId": "5ada7eb7-05b4-429a-df3b-c69addecde4f"
      },
      "execution_count": null,
      "outputs": [
        {
          "output_type": "stream",
          "name": "stdout",
          "text": [
            "Hola Mundo\n",
            "  Hola Python  \n"
          ]
        }
      ]
    },
    {
      "cell_type": "code",
      "source": [
        "txt=\"hola mundo \"\n",
        "print(txt)\n",
        "print(txt.upper())"
      ],
      "metadata": {
        "colab": {
          "base_uri": "https://localhost:8080/"
        },
        "id": "KPMQwnaeHATX",
        "outputId": "595e9221-4885-4122-8ae7-afa5541868c0"
      },
      "execution_count": null,
      "outputs": [
        {
          "output_type": "stream",
          "name": "stdout",
          "text": [
            "hola mundo \n",
            "HOLA MUNDO \n"
          ]
        }
      ]
    },
    {
      "cell_type": "code",
      "source": [
        "s7='hola'\n",
        "print(\"Esto {sujeto} una {verbo}.\".format(sujeto = \"prueba\", verbo = s7))"
      ],
      "metadata": {
        "id": "4xLh_rNo4BNZ"
      },
      "execution_count": null,
      "outputs": []
    },
    {
      "cell_type": "markdown",
      "source": [
        "## Ejercicios:\n",
        "\n",
        "1. Pide al usuario que escriba una frase e imprímela en mayúsculas.\n",
        "2. Solicita una palabra y muestra su primer y último carácter.\n",
        "3. Crea un programa que cuente cuántas veces aparece una letra específica en un string."
      ],
      "metadata": {
        "id": "xe3GeBLQIDNt"
      }
    },
    {
      "cell_type": "code",
      "source": [
        "#ejercicio 3\n",
        "palabra=\"He is currently currently working on the project.\"\n",
        "contador=0\n",
        "for letra in palabra:\n",
        "  if letra=='u':\n",
        "    contador=contador+1\n",
        "\n",
        "print(contador)"
      ],
      "metadata": {
        "colab": {
          "base_uri": "https://localhost:8080/"
        },
        "id": "43j7v9FLIU6b",
        "outputId": "e6e40317-27fe-441f-a850-550da0748d67"
      },
      "execution_count": null,
      "outputs": [
        {
          "output_type": "stream",
          "name": "stdout",
          "text": [
            "2\n"
          ]
        }
      ]
    },
    {
      "cell_type": "markdown",
      "source": [
        "##Listas\n",
        "\n",
        "<p><strong>Definición: </strong> Una lista es una colección ordenada de elementos que pueden ser de diferentes tipos. Se define utilizando corchetes [...].</p>\n"
      ],
      "metadata": {
        "id": "8NqlXOPhzrtv"
      }
    },
    {
      "cell_type": "markdown",
      "source": [
        "##Operaciones comunes con listas\n",
        "\n",
        "<p>1. Acceder a los elementos</p>"
      ],
      "metadata": {
        "id": "5vYI-HWH1KEW"
      }
    },
    {
      "cell_type": "code",
      "source": [
        "#Para acceder a los elementos se usan indices\n",
        "\n",
        "frutas = [\"manzana\", \"banana\", \"cereza\"]\n",
        "print(frutas[1])  # Salida: banana\n"
      ],
      "metadata": {
        "id": "KzoO1uId1AtZ"
      },
      "execution_count": null,
      "outputs": []
    },
    {
      "cell_type": "markdown",
      "source": [
        "<p> 2. Modificar listas </p>\n",
        "\n",
        "\n",
        "\n",
        "*   Agregar elementos: `append()`\n",
        "*   Insertar elementos en una posición específica: `insert()`\n",
        "*   Eliminar elementos: `remove() o pop()`.\n",
        "\n"
      ],
      "metadata": {
        "id": "I3608XFk1nk7"
      }
    },
    {
      "cell_type": "code",
      "source": [
        "frutas.append(\"naranja\")\n",
        "frutas.insert(1, \"pera\")\n",
        "frutas.remove(\"banana\")\n",
        "print(frutas)\n"
      ],
      "metadata": {
        "id": "pvkFIGZJ2R0F"
      },
      "execution_count": null,
      "outputs": []
    },
    {
      "cell_type": "markdown",
      "source": [
        "<p> 3. Recorrer una lista </p>"
      ],
      "metadata": {
        "id": "wgiaslIV3YSt"
      }
    },
    {
      "cell_type": "code",
      "source": [
        "a=[1,2,3,4]\n",
        "a[:]"
      ],
      "metadata": {
        "colab": {
          "base_uri": "https://localhost:8080/"
        },
        "id": "X_3nMuOq4kKe",
        "outputId": "5897a38e-01c9-4670-8e59-11b86c014770"
      },
      "execution_count": null,
      "outputs": [
        {
          "output_type": "execute_result",
          "data": {
            "text/plain": [
              "[1, 2, 3, 4]"
            ]
          },
          "metadata": {},
          "execution_count": 2
        }
      ]
    },
    {
      "cell_type": "code",
      "source": [
        "print(a[:])\n",
        "print(a[0:2])\n",
        "print(a[::2])"
      ],
      "metadata": {
        "colab": {
          "base_uri": "https://localhost:8080/"
        },
        "id": "ZyeM97iY4opf",
        "outputId": "7c7374fb-ec7f-43c3-9044-ca2fbe2f38c6"
      },
      "execution_count": null,
      "outputs": [
        {
          "output_type": "stream",
          "name": "stdout",
          "text": [
            "[1, 2, 3, 4]\n",
            "[1, 2]\n",
            "[1, 3]\n"
          ]
        }
      ]
    },
    {
      "cell_type": "code",
      "source": [
        "for i in a:\n",
        "    print(i)\n"
      ],
      "metadata": {
        "colab": {
          "base_uri": "https://localhost:8080/"
        },
        "id": "QEclaVRB4qyP",
        "outputId": "efa20af4-e01c-45d1-cd12-3bb2c894b875"
      },
      "execution_count": null,
      "outputs": [
        {
          "output_type": "stream",
          "name": "stdout",
          "text": [
            "1\n",
            "2\n",
            "3\n",
            "4\n"
          ]
        }
      ]
    },
    {
      "cell_type": "code",
      "source": [
        "l = [1, 'a', 1.0, True]\n",
        "type(l)\n"
      ],
      "metadata": {
        "id": "87cLb0ax5UtP"
      },
      "execution_count": null,
      "outputs": []
    },
    {
      "cell_type": "code",
      "source": [
        "lista_anidada = [1, [2,1]]\n",
        "type(lista_anidada)"
      ],
      "metadata": {
        "colab": {
          "base_uri": "https://localhost:8080/"
        },
        "id": "nRUr9jZz5dgQ",
        "outputId": "ee65d665-5e98-4b8d-c78b-647a770ef6af"
      },
      "execution_count": null,
      "outputs": [
        {
          "output_type": "execute_result",
          "data": {
            "text/plain": [
              "list"
            ]
          },
          "metadata": {},
          "execution_count": 5
        }
      ]
    },
    {
      "cell_type": "code",
      "source": [
        "lista_anidada[1][0], lista_anidada[1][1],\n"
      ],
      "metadata": {
        "colab": {
          "base_uri": "https://localhost:8080/"
        },
        "id": "MNYV0hVS5x7h",
        "outputId": "f8190a7f-92ef-48b7-8255-2e61e922e485"
      },
      "execution_count": null,
      "outputs": [
        {
          "output_type": "execute_result",
          "data": {
            "text/plain": [
              "(2, 1)"
            ]
          },
          "metadata": {},
          "execution_count": 16
        }
      ]
    },
    {
      "cell_type": "code",
      "source": [
        "lista_anidada[1]"
      ],
      "metadata": {
        "colab": {
          "base_uri": "https://localhost:8080/"
        },
        "id": "9nMsubOf6QqG",
        "outputId": "7a99fa5a-684f-4106-8e82-7b17bf05e9e9"
      },
      "execution_count": null,
      "outputs": [
        {
          "output_type": "execute_result",
          "data": {
            "text/plain": [
              "[2, 1]"
            ]
          },
          "metadata": {},
          "execution_count": 15
        }
      ]
    },
    {
      "cell_type": "code",
      "source": [
        "a=[2,37]\n",
        "b=[5,6]\n",
        "\n",
        "a+b"
      ],
      "metadata": {
        "colab": {
          "base_uri": "https://localhost:8080/"
        },
        "id": "QWKtPm8gFIwJ",
        "outputId": "74ff1862-2fc8-492d-e056-a224841cb2cc"
      },
      "execution_count": null,
      "outputs": [
        {
          "output_type": "execute_result",
          "data": {
            "text/plain": [
              "[2, 37, 5, 6]"
            ]
          },
          "metadata": {},
          "execution_count": 21
        }
      ]
    },
    {
      "cell_type": "markdown",
      "source": [
        "## Ejercicios\n",
        "1. Crea una lista con 5 números y calcula su suma.\n",
        "2. Escribe un programa que permita agregar nombres a una lista\n",
        "3. hasta que el usuario escriba \"salir\".\n",
        "4. Escribe un programa que tome una lista de números y elimine los duplicados.\n"
      ],
      "metadata": {
        "id": "iRivLc1e5M1g"
      }
    },
    {
      "cell_type": "markdown",
      "source": [
        "##Diccionarios\n",
        "\n",
        "<p><strong>Definición: </strong>Un diccionario es una colección de elementos, donde cada uno tiene una llave key y un valor value. Se define utilizando llaves {.....}.</p>"
      ],
      "metadata": {
        "id": "vkHMqNqT7XZc"
      }
    },
    {
      "cell_type": "code",
      "source": [
        "#Ejemplo 1\n",
        "d1 = {\n",
        "  \"Nombre\": \"Sara\",\n",
        "  \"Edad\": 27,\n",
        "  \"Documento\": 1003882\n",
        "}\n",
        "print(d1)\n",
        "#{'Nombre': 'Sara', 'Edad': 27, 'Documento': 1003882}"
      ],
      "metadata": {
        "id": "BcohILrQDh3S"
      },
      "execution_count": null,
      "outputs": []
    },
    {
      "cell_type": "code",
      "source": [
        "#Ejemplo 2\n",
        "\n",
        "d2 = dict([\n",
        "      ('Nombre', 'Sara'),\n",
        "      ('Edad', 27),\n",
        "      ('Documento', 1003882),\n",
        "])\n",
        "print(d2)\n",
        "#{'Nombre': 'Sara', 'Edad': '27', 'Documento': '1003882'}"
      ],
      "metadata": {
        "id": "UTQNIOW8DoZk"
      },
      "execution_count": null,
      "outputs": []
    },
    {
      "cell_type": "markdown",
      "source": [
        "## Operaciones comunes en diccionarios\n",
        "\n",
        "<p> 1. Acceder a valores</p>"
      ],
      "metadata": {
        "id": "iextNnIQM5Hk"
      }
    },
    {
      "cell_type": "code",
      "source": [
        "persona = {\"nombre\": \"Ana\", \"edad\": 30, \"ciudad\": \"Medellín\"}\n",
        "print(persona[\"nombre\"],\" tiene \", persona[\"edad\"])"
      ],
      "metadata": {
        "colab": {
          "base_uri": "https://localhost:8080/"
        },
        "id": "dPdJZcM1M4P7",
        "outputId": "fbc89de1-0ac1-4229-d6bc-c3e2089f9338"
      },
      "execution_count": null,
      "outputs": [
        {
          "output_type": "stream",
          "name": "stdout",
          "text": [
            "Ana  tiene  30\n"
          ]
        }
      ]
    },
    {
      "cell_type": "markdown",
      "source": [
        "<p> 2. Agregar o modificar elementos</p>"
      ],
      "metadata": {
        "id": "hsng_GmKUQwn"
      }
    },
    {
      "cell_type": "code",
      "source": [
        "persona[\"profesión\"] = \"Ingeniera\"\n",
        "persona[\"edad\"] = 31\n",
        "print(persona)\n"
      ],
      "metadata": {
        "colab": {
          "base_uri": "https://localhost:8080/"
        },
        "id": "aMPkVT1kUPyt",
        "outputId": "2338786d-93a7-4ae4-dba6-488b685168a1"
      },
      "execution_count": null,
      "outputs": [
        {
          "output_type": "stream",
          "name": "stdout",
          "text": [
            "{'nombre': 'Ana', 'edad': 31, 'ciudad': 'Medellín', 'profesión': 'Ingeniera'}\n"
          ]
        }
      ]
    },
    {
      "cell_type": "code",
      "source": [
        "persona['profesión']"
      ],
      "metadata": {
        "colab": {
          "base_uri": "https://localhost:8080/",
          "height": 36
        },
        "id": "6AZRI6jOUPvJ",
        "outputId": "951f92be-3354-46ac-9517-d936efd96347"
      },
      "execution_count": null,
      "outputs": [
        {
          "output_type": "execute_result",
          "data": {
            "text/plain": [
              "'Ingeniera'"
            ],
            "application/vnd.google.colaboratory.intrinsic+json": {
              "type": "string"
            }
          },
          "metadata": {},
          "execution_count": 32
        }
      ]
    },
    {
      "cell_type": "markdown",
      "source": [
        "<p> 3. Recorrer un diccionarios </p>\n",
        "\n",
        "\n",
        "\n"
      ],
      "metadata": {
        "id": "oxJJpgmTV5v2"
      }
    },
    {
      "cell_type": "code",
      "source": [
        "for clave, valor in persona.items():\n",
        "    print(f\"{clave}: {valor}\")"
      ],
      "metadata": {
        "colab": {
          "base_uri": "https://localhost:8080/"
        },
        "id": "IkMdujU4UPl5",
        "outputId": "d4aef590-8d3c-4075-eada-0edc43cf1e77"
      },
      "execution_count": null,
      "outputs": [
        {
          "output_type": "stream",
          "name": "stdout",
          "text": [
            "nombre: Ana\n",
            "edad: 31\n",
            "ciudad: Medellín\n",
            "profesión: Ingeniera\n"
          ]
        }
      ]
    },
    {
      "cell_type": "markdown",
      "source": [
        "<p>4. Eliminar elementos</p>\n",
        "\n",
        "\n"
      ],
      "metadata": {
        "id": "tUmyaY9iWmWG"
      }
    },
    {
      "cell_type": "code",
      "source": [
        "del persona[\"ciudad\"]\n",
        "persona\n"
      ],
      "metadata": {
        "colab": {
          "base_uri": "https://localhost:8080/"
        },
        "id": "bIFg-ScxW8vl",
        "outputId": "4ce9c201-0b74-4ddc-acfb-808997339966"
      },
      "execution_count": null,
      "outputs": [
        {
          "output_type": "execute_result",
          "data": {
            "text/plain": [
              "{'nombre': 'Ana', 'edad': 31, 'profesión': 'Ingeniera'}"
            ]
          },
          "metadata": {},
          "execution_count": 34
        }
      ]
    },
    {
      "cell_type": "markdown",
      "source": [
        "##Ejercicios\n",
        "  1. Crea un diccionario con información de un estudiante (nombre,edad, curso) y muestra sus valores.\n",
        "  2. Escribe un programa que registre productos (nombre y precio) en un diccionario hasta que el usuario escriba \"fin\". Luego, imprime el total de los precios.\n",
        "  3. Haz un programa que tome un diccionario y permita al usuario actualizar uno de los valores."
      ],
      "metadata": {
        "id": "qIXaLe25ZJwh"
      }
    },
    {
      "cell_type": "markdown",
      "source": [
        " <a href=\"#contents\">Contenido<a><br>\n",
        "\n",
        " <p><a name=\"funciones\"></a></p>\n",
        "\n",
        " # 5. Funciones\n",
        "\n",
        "\n",
        "<p> <strong>Definición: </strong>Una función es un bloque de código reutilizable que realiza una tarea específica. Nos ayuda a evitar la repetición de código, mantenerlo organizado y más fácil de depurar.</p>\n",
        "\n",
        "Se define con la palabra clave `def ` seguida del nombre de la función y paréntesis. `def nombre_función():`"
      ],
      "metadata": {
        "id": "IgeN1C_4cXlJ"
      }
    },
    {
      "cell_type": "markdown",
      "source": [
        "##Partes de una función\n",
        "\n",
        "1. Nombre de la función: Identifica la función.\n",
        "2. Parámetros (opcional): Valores que la función recibe para trabajar.\n",
        "3. Cuerpo de la función: Instrucciones que la función ejecuta.\n",
        "4. Valor de retorno (opcional): Resultado que la función entrega después de ejecutarse."
      ],
      "metadata": {
        "id": "usPIeWKLsYWj"
      }
    },
    {
      "cell_type": "code",
      "source": [
        "#Ejemplo\n",
        "def nombre_funcion(parametros_opcionales):\n",
        "    # Cuerpo de la función\n",
        "    return valor_opcional\n"
      ],
      "metadata": {
        "id": "fxRO7Cw9sojH"
      },
      "execution_count": null,
      "outputs": []
    },
    {
      "cell_type": "markdown",
      "source": [
        "## Función si parametros y retornos"
      ],
      "metadata": {
        "id": "ITLESZxjjTN3"
      }
    },
    {
      "cell_type": "code",
      "source": [
        "def saludar():\n",
        "    print(\"¡Hola! Bienvenido a Python.\")\n",
        "\n",
        "saludar()\n"
      ],
      "metadata": {
        "id": "TzUd52NRjlLr"
      },
      "execution_count": null,
      "outputs": []
    },
    {
      "cell_type": "markdown",
      "source": [
        "## Función con parámetros"
      ],
      "metadata": {
        "id": "gUGV4Yfojp66"
      }
    },
    {
      "cell_type": "code",
      "source": [
        "def saludar_persona(nombre):\n",
        "    print(f\"¡Hola, {nombre}! ¿Cómo estás?\")\n",
        "\n",
        "saludar_persona(\"Ana\")  # Salida: ¡Hola, Ana! ¿Cómo estás?\n"
      ],
      "metadata": {
        "id": "Q_MrKL9xjpZ7"
      },
      "execution_count": null,
      "outputs": []
    },
    {
      "cell_type": "markdown",
      "source": [
        "## Función con retorno\n"
      ],
      "metadata": {
        "id": "6uyJtlzxkVCH"
      }
    },
    {
      "cell_type": "code",
      "source": [
        "def sumar(a, b):\n",
        "    return a + b\n",
        "\n",
        "resultado = sumar(3, 5)\n",
        "print(f\"La suma es: {resultado}\")"
      ],
      "metadata": {
        "id": "DP3cjFFql4_a"
      },
      "execution_count": null,
      "outputs": []
    },
    {
      "cell_type": "markdown",
      "source": [
        "## Otros ejemplos de funciones"
      ],
      "metadata": {
        "id": "q5lOw3-Fl03m"
      }
    },
    {
      "cell_type": "code",
      "source": [
        "#Parámetro opcionales\n",
        "\n",
        "def saludar(nombre=\"Invitado\"):\n",
        "    print(f\"¡Hola, {nombre}!\")\n",
        "\n",
        "saludar()  # Salida: ¡Hola, Invitado!\n",
        "saludar(\"Carlos\")  # Salida: ¡Hola, Carlos!\n"
      ],
      "metadata": {
        "id": "ZzFVtIWymARk"
      },
      "execution_count": null,
      "outputs": []
    },
    {
      "cell_type": "code",
      "source": [
        "# Localidad de las variables\n",
        "def ejemplo():\n",
        "    x = 10  # Variable local\n",
        "    print(x)\n",
        "\n",
        "ejemplo()\n",
        "# print(x)  # Esto daría error, porque x no está definida fuera de la función."
      ],
      "metadata": {
        "id": "V5kE4D95mXHy"
      },
      "execution_count": null,
      "outputs": []
    },
    {
      "cell_type": "code",
      "source": [
        "#Funciones con varios párametros\n",
        "\n",
        "def datos_personales(nombre, edad, ciudad):\n",
        "    print(f\"Nombre: {nombre}, Edad: {edad}, Ciudad: {ciudad}\")\n",
        "\n",
        "datos_personales(\"Ana\", 30, \"Medellín\")\n"
      ],
      "metadata": {
        "id": "9a0s48HBmiFT"
      },
      "execution_count": null,
      "outputs": []
    },
    {
      "cell_type": "markdown",
      "source": [
        "## Ejemplos básicos de funciones"
      ],
      "metadata": {
        "id": "KTAtt8xemx6x"
      }
    },
    {
      "cell_type": "code",
      "source": [
        "#Función para calcular el área de un triángulo\n",
        "#Crea una función que reciba la base y la altura de un triángulo y devuelva su área.\n",
        "\n",
        "def area_triangulo(base, altura):\n",
        "    return (base * altura) / 2\n",
        "\n",
        "print(area_triangulo(10, 5))  # Salida: 25.0\n"
      ],
      "metadata": {
        "id": "AEMnbQYAmxWd"
      },
      "execution_count": null,
      "outputs": []
    },
    {
      "cell_type": "code",
      "source": [
        "# Función para determinar si un número es par o impar\n",
        "def es_par(numero):\n",
        "    if numero % 2 == 0:\n",
        "        return True\n",
        "    else:\n",
        "        return False\n",
        "\n",
        "print(es_par(4))  # Salida: True\n",
        "print(es_par(7))  # Salida: False\n"
      ],
      "metadata": {
        "id": "6cMnuw58nCc3"
      },
      "execution_count": null,
      "outputs": []
    },
    {
      "cell_type": "code",
      "source": [
        "#Función para contar palabras\n",
        "def contar_palabras(texto):\n",
        "    palabras = texto.split()\n",
        "    return len(palabras)\n",
        "\n",
        "texto = \"Python es un lenguaje de programación versátil.\"\n",
        "print(contar_palabras(texto))  # Salida: 7\n"
      ],
      "metadata": {
        "id": "pJNrQLspnPRt"
      },
      "execution_count": null,
      "outputs": []
    },
    {
      "cell_type": "markdown",
      "source": [
        "## Ejercicios\n",
        "\n",
        "1. Crea una función que reciba un número y devuelva su factorial.\n",
        "2. Escribe una función que reciba una lista de números y devuelva la suma de los números pares.\n",
        "3. Crea una función que reciba un string y lo devuelva en orden inverso.\n",
        "4. Escribe una función que reciba un diccionario con productos y precios, y calcule el total de los precios."
      ],
      "metadata": {
        "id": "nf6QChdtnah1"
      }
    }
  ]
}